{
 "cells": [
  {
   "cell_type": "markdown",
   "id": "UmfC4a6G51RP",
   "metadata": {
    "id": "UmfC4a6G51RP"
   },
   "source": [
    "# Load the dataset"
   ]
  },
  {
   "cell_type": "code",
   "execution_count": 1,
   "id": "i4Bn4Gx19XsT",
   "metadata": {
    "id": "i4Bn4Gx19XsT"
   },
   "outputs": [
    {
     "name": "stderr",
     "output_type": "stream",
     "text": [
      "Seed set to 172\n"
     ]
    },
    {
     "data": {
      "text/plain": [
       "172"
      ]
     },
     "execution_count": 1,
     "metadata": {},
     "output_type": "execute_result"
    }
   ],
   "source": [
    "import random\n",
    "import numpy as np\n",
    "import torch\n",
    "import pytorch_lightning as pl\n",
    "\n",
    "SEED = 172\n",
    "\n",
    "# Set seed for Python's random module\n",
    "random.seed(SEED)\n",
    "\n",
    "# Set seed for NumPy\n",
    "np.random.seed(SEED)\n",
    "\n",
    "# Set seed for PyTorch\n",
    "torch.manual_seed(SEED)\n",
    "torch.cuda.manual_seed(SEED)\n",
    "torch.cuda.manual_seed_all(SEED)  # if you are using multi-GPU.\n",
    "\n",
    "# Set seed for PyTorch Lightning\n",
    "pl.seed_everything(SEED)"
   ]
  },
  {
   "cell_type": "code",
   "execution_count": null,
   "id": "BkWdXJEB50of",
   "metadata": {
    "colab": {
     "base_uri": "https://localhost:8080/"
    },
    "id": "BkWdXJEB50of",
    "outputId": "8fabc434-7235-427a-d986-e3e6bd517b5c"
   },
   "outputs": [],
   "source": [
    "# Code to mount google drive in Google Colab.\n",
    "\n",
    "# from google.colab import drive\n",
    "# import pandas as pd\n",
    "# import os\n",
    "# drive.mount('/content/gdrive', force_remount=True)\n",
    "\n",
    "\n",
    "# You theoretically can access the dataset through the network stored in Google Drive, like so:\n",
    "# dataset_folder = \"/content/gdrive/MyDrive/MC959 - Datasets/Airbus Wind Turbines Patches\"\n",
    "\n",
    "# However, using this approach would probably be slow. Use the approach in the cell below instead."
   ]
  },
  {
   "cell_type": "code",
   "execution_count": null,
   "id": "E7wBumVkJqtf",
   "metadata": {
    "colab": {
     "base_uri": "https://localhost:8080/"
    },
    "id": "E7wBumVkJqtf",
    "outputId": "4e3d0260-7b6f-4bcb-de5e-5db5b6032f01"
   },
   "outputs": [],
   "source": [
    "# If on Google Colab, use the following code to unzip the dataset\n",
    "\n",
    "# Upload the kaggle dataset archive to 'kaggle-dataset-archive.zip'\n",
    "# in the Files panel\n",
    "\n",
    "# The unzip process takes around 4 minutes\n",
    "# !apt-get install unzip\n",
    "# !unzip '/content/gdrive/MyDrive/MC959 - Datasets/Airbus Wind Turbines Patches/kaggle-dataset-archive.zip' -d './Airbus Wind Turbines Patches/'\n",
    "# # !unzip kaggle-dataset-archive.zip -d './Airbus Wind Turbines Patches/'\n",
    "# dataset_folder = './Airbus Wind Turbines Patches/'"
   ]
  },
  {
   "cell_type": "code",
   "execution_count": 2,
   "id": "653c1d5a",
   "metadata": {},
   "outputs": [],
   "source": [
    "# When in local development, just download and extract the dataset into a folder\n",
    "# and set the dataset_folder variable to the path of that folder\n",
    "dataset_folder = 'C:\\\\Users\\\\diego\\\\Documents\\\\TEMP_MC959\\\\Airbus Wind Turbines Patches'"
   ]
  },
  {
   "cell_type": "code",
   "execution_count": 3,
   "id": "drEFOYDQKstf",
   "metadata": {
    "id": "drEFOYDQKstf"
   },
   "outputs": [],
   "source": [
    "import os\n",
    "\n",
    "base_train_background_filenames = [os.path.join(dataset_folder, 'train', 'background', file) for file in os.listdir(f'{dataset_folder}/train/background')]\n",
    "base_train_target_filenames = [os.path.join(dataset_folder, 'train', 'target', file) for file in os.listdir(f'{dataset_folder}/train/target')]\n",
    "base_val_background_filenames = [os.path.join(dataset_folder, 'val', 'background', file) for file in os.listdir(f'{dataset_folder}/val/background')]\n",
    "base_val_target_filenames = [os.path.join(dataset_folder, 'val', 'target', file) for file in os.listdir(f'{dataset_folder}/val/target')]"
   ]
  },
  {
   "cell_type": "code",
   "execution_count": 4,
   "id": "FXF4aJd953fq",
   "metadata": {
    "id": "FXF4aJd953fq"
   },
   "outputs": [],
   "source": [
    "all_background_filenames = base_train_background_filenames + base_val_background_filenames\n",
    "all_target_filenames = base_train_target_filenames + base_val_target_filenames\n",
    "\n",
    "from sklearn.model_selection import train_test_split\n",
    "\n",
    "# Split the entire dataset into a dataset used for fine-tuning and the rest (used for later stages)\n",
    "fine_tuning_background_filenames, rest_background_filenames = train_test_split(all_background_filenames, test_size=0.25, random_state=SEED)\n",
    "fine_tuning_target_filenames, rest_target_filenames = train_test_split(all_target_filenames, test_size=0.25, random_state=SEED)\n",
    "\n",
    "# Split the rest dataset into 70% train, 15% test, 15% validation\n",
    "train_background_filenames, rest_background_filenames = train_test_split(rest_background_filenames, test_size=0.3, random_state=SEED)\n",
    "valid_background_filenames, test_background_filenames = train_test_split(rest_background_filenames, test_size=0.5, random_state=SEED)\n",
    "\n",
    "train_target_filenames, rest_target_filenames = train_test_split(rest_target_filenames, test_size=0.3, random_state=SEED)\n",
    "valid_target_filenames, test_target_filenames = train_test_split(rest_target_filenames, test_size=0.5, random_state=SEED)"
   ]
  },
  {
   "cell_type": "code",
   "execution_count": 10,
   "id": "b4aa9fb4",
   "metadata": {},
   "outputs": [
    {
     "data": {
      "text/plain": [
       "(243078, 180179, 423257)"
      ]
     },
     "execution_count": 10,
     "metadata": {},
     "output_type": "execute_result"
    }
   ],
   "source": [
    "len(all_background_filenames), len(all_target_filenames), len(all_background_filenames) + len(all_target_filenames)"
   ]
  },
  {
   "cell_type": "code",
   "execution_count": 5,
   "id": "shtrisRiA3s_",
   "metadata": {
    "colab": {
     "base_uri": "https://localhost:8080/"
    },
    "id": "shtrisRiA3s_",
    "outputId": "ecae578f-3562-4a92-ff4b-fa9f30e5825d"
   },
   "outputs": [
    {
     "name": "stderr",
     "output_type": "stream",
     "text": [
      "d:\\Projects\\MC959-Final-Project\\pytorch_env\\Lib\\site-packages\\torchvision\\transforms\\v2\\_deprecated.py:42: UserWarning: The transform `ToTensor()` is deprecated and will be removed in a future release. Instead, please use `v2.Compose([v2.ToImage(), v2.ToDtype(torch.float32, scale=True)])`.Output is equivalent up to float precision.\n",
      "  warnings.warn(\n"
     ]
    }
   ],
   "source": [
    "import numpy as np\n",
    "from PIL import Image\n",
    "from torch.utils.data import Dataset\n",
    "import torchvision.transforms.v2 as transforms\n",
    "\n",
    "# Reads the image from the filesystem when needed, to avoid overflowing RAM\n",
    "class AirbusDataset(Dataset):\n",
    "  def __init__(self, background_filenames, target_filenames, transform=None, target_transform=None):\n",
    "    all_filenames_with_label = [(f,0) for f in background_filenames] + \\\n",
    "                               [(f,1) for f in target_filenames]\n",
    "    self.filenames = [file_name_label[0] for file_name_label in all_filenames_with_label]\n",
    "    self.labels = [file_name_label[1] for file_name_label in all_filenames_with_label]\n",
    "\n",
    "    self.images = self.filenames\n",
    "    # self.images = [Image.open(filename) for filename in filenames]\n",
    "    # self.images = [np.asarray(pil_image) for pil_image in self.images]\n",
    "\n",
    "    self.transform = transform\n",
    "    self.target_transform = target_transform\n",
    "\n",
    "    #   self.images = [transform(image) for image in self.images]\n",
    "\n",
    "  def __len__(self):\n",
    "    return len(self.filenames)\n",
    "\n",
    "  def __getitem__(self, idx):\n",
    "    '''\n",
    "    Return a tuple with the image and the respective target at position idx.\n",
    "    '''\n",
    "    image = Image.open(self.images[idx])\n",
    "    label = self.labels[idx]\n",
    "\n",
    "    if self.transform != None:\n",
    "      image = self.transform(image)\n",
    "      \n",
    "    if self.target_transform != None:\n",
    "      label = self.target_transform(label)\n",
    "\n",
    "    return image, label\n",
    "\n",
    "preprocess_transform = transforms.Compose([\n",
    "    transforms.Resize((256,256)),\n",
    "    transforms.CenterCrop(224),\n",
    "    transforms.ToTensor(),\n",
    "    transforms.Normalize(mean=[0.485, 0.456, 0.406], std=[0.229, 0.224, 0.225]),\n",
    "])\n",
    "\n",
    "train_dataset = AirbusDataset(\n",
    "    train_background_filenames,\n",
    "    train_target_filenames,\n",
    "    transform=preprocess_transform\n",
    "  )\n",
    "\n",
    "valid_dataset = AirbusDataset(\n",
    "    valid_background_filenames,\n",
    "    valid_target_filenames,\n",
    "    transform=preprocess_transform\n",
    "  )\n",
    "\n",
    "test_dataset = AirbusDataset(\n",
    "    test_background_filenames,\n",
    "    test_target_filenames,\n",
    "    transform=preprocess_transform\n",
    "  )\n",
    "\n",
    "fine_tuning_dataset = AirbusDataset(\n",
    "    fine_tuning_background_filenames,\n",
    "    fine_tuning_target_filenames,\n",
    "    transform=preprocess_transform\n",
    "  )"
   ]
  },
  {
   "cell_type": "code",
   "execution_count": 6,
   "id": "32eee0ef",
   "metadata": {},
   "outputs": [
    {
     "name": "stdout",
     "output_type": "stream",
     "text": [
      "Train dataset size: 74070\n",
      "Validation dataset size: 15872\n",
      "Test dataset size: 15873\n",
      "Fine-tuning dataset size: 317442\n"
     ]
    }
   ],
   "source": [
    "print(f'Train dataset size: {len(train_dataset)}')\n",
    "print(f'Validation dataset size: {len(valid_dataset)}')\n",
    "print(f'Test dataset size: {len(test_dataset)}')\n",
    "print(f'Fine-tuning dataset size: {len(fine_tuning_dataset)}')"
   ]
  },
  {
   "cell_type": "markdown",
   "id": "6964de13",
   "metadata": {},
   "source": [
    "We can see that our dataset has a good amount of data points for us to work with. Even in the training dataset (70% of the 25% section of our dataset not reserved for fine tuning) has a good amount of data. This might result in the full supervised method yielding good results."
   ]
  },
  {
   "cell_type": "code",
   "execution_count": 8,
   "id": "dn5LmCH-AYea",
   "metadata": {
    "colab": {
     "base_uri": "https://localhost:8080/",
     "height": 1000
    },
    "id": "dn5LmCH-AYea",
    "outputId": "31e7a774-bab3-4c12-c68e-e8691b4375d0"
   },
   "outputs": [
    {
     "name": "stdout",
     "output_type": "stream",
     "text": [
      "Number of images: 74070\n",
      "Images are 224x224x3\n",
      "Class of the image:  0\n"
     ]
    },
    {
     "data": {
      "image/png": "[encoded data removed]",
      "text/plain": [
       "<Figure size 640x480 with 1 Axes>"
      ]
     },
     "metadata": {},
     "output_type": "display_data"
    },
    {
     "name": "stdout",
     "output_type": "stream",
     "text": [
      "Class of the image:  0\n"
     ]
    },
    {
     "data": {
      "image/png": "[encoded data removed]",
      "text/plain": [
       "<Figure size 640x480 with 1 Axes>"
      ]
     },
     "metadata": {},
     "output_type": "display_data"
    },
    {
     "name": "stdout",
     "output_type": "stream",
     "text": [
      "Class of the image:  0\n"
     ]
    },
    {
     "data": {
      "image/png": "[encoded data removed]",
      "text/plain": [
       "<Figure size 640x480 with 1 Axes>"
      ]
     },
     "metadata": {},
     "output_type": "display_data"
    }
   ],
   "source": [
    "import matplotlib.pyplot as plt\n",
    "# Visualize images from the training set\n",
    "\n",
    "def show_image(idx):\n",
    "  image, target = train_dataset[idx] # This will execute the '__getitem__' method\n",
    "  nchannels = image.shape[0]\n",
    "  height    = image.shape[1]\n",
    "  width     = image.shape[2]\n",
    "  image     = image.permute(1,2,0).numpy() # Converts the Tensor back to image shape\n",
    "  image     = 255*(image - np.min(image))/(np.max(image)-np.min(image))\n",
    "  image     = image.astype('uint8')\n",
    "  plt.imshow(image)\n",
    "  print(\"Class of the image: \", target)\n",
    "  plt.show()\n",
    "\n",
    "print(\"Number of images:\", len(train_dataset))\n",
    "sample_image, target = train_dataset[100] # This will execute the '__getitem__' method\n",
    "nchannels = sample_image.shape[0]\n",
    "height    = sample_image.shape[1]\n",
    "width     = sample_image.shape[2]\n",
    "print(\"Images are {}x{}x{}\".format(width,height,nchannels))\n",
    "\n",
    "show_image(10)\n",
    "show_image(50)\n",
    "show_image(100)"
   ]
  },
  {
   "cell_type": "markdown",
   "id": "CLtBdWVyM-Tz",
   "metadata": {
    "id": "CLtBdWVyM-Tz"
   },
   "source": [
    "# Dependencies"
   ]
  },
  {
   "cell_type": "code",
   "execution_count": null,
   "id": "597c71db",
   "metadata": {},
   "outputs": [
    {
     "name": "stdout",
     "output_type": "stream",
     "text": [
      "Requirement already satisfied: tensorboard in d:\\projects\\mc959-final-project\\pytorch_env\\lib\\site-packages (2.18.0)\n",
      "Requirement already satisfied: absl-py>=0.4 in d:\\projects\\mc959-final-project\\pytorch_env\\lib\\site-packages (from tensorboard) (2.1.0)\n",
      "Requirement already satisfied: grpcio>=1.48.2 in d:\\projects\\mc959-final-project\\pytorch_env\\lib\\site-packages (from tensorboard) (1.68.0)\n",
      "Requirement already satisfied: markdown>=2.6.8 in d:\\projects\\mc959-final-project\\pytorch_env\\lib\\site-packages (from tensorboard) (3.7)\n",
      "Requirement already satisfied: numpy>=1.12.0 in d:\\projects\\mc959-final-project\\pytorch_env\\lib\\site-packages (from tensorboard) (1.26.3)\n",
      "Requirement already satisfied: packaging in d:\\projects\\mc959-final-project\\pytorch_env\\lib\\site-packages (from tensorboard) (24.2)\n",
      "Requirement already satisfied: protobuf!=4.24.0,>=3.19.6 in d:\\projects\\mc959-final-project\\pytorch_env\\lib\\site-packages (from tensorboard) (5.28.3)\n",
      "Requirement already satisfied: setuptools>=41.0.0 in d:\\projects\\mc959-final-project\\pytorch_env\\lib\\site-packages (from tensorboard) (70.0.0)\n",
      "Requirement already satisfied: six>1.9 in d:\\projects\\mc959-final-project\\pytorch_env\\lib\\site-packages (from tensorboard) (1.16.0)\n",
      "Requirement already satisfied: tensorboard-data-server<0.8.0,>=0.7.0 in d:\\projects\\mc959-final-project\\pytorch_env\\lib\\site-packages (from tensorboard) (0.7.2)\n",
      "Requirement already satisfied: werkzeug>=1.0.1 in d:\\projects\\mc959-final-project\\pytorch_env\\lib\\site-packages (from tensorboard) (3.1.3)\n",
      "Requirement already satisfied: MarkupSafe>=2.1.1 in d:\\projects\\mc959-final-project\\pytorch_env\\lib\\site-packages (from werkzeug>=1.0.1->tensorboard) (2.1.5)\n"
     ]
    },
    {
     "name": "stderr",
     "output_type": "stream",
     "text": [
      "\n",
      "[notice] A new release of pip is available: 24.0 -> 24.3.1\n",
      "[notice] To update, run: python.exe -m pip install --upgrade pip\n"
     ]
    }
   ],
   "source": [
    "!pip install tensorboard seaborn matplotlib lightly sklearn"
   ]
  },
  {
   "cell_type": "markdown",
   "id": "aUAfMJbNA5-w",
   "metadata": {
    "id": "aUAfMJbNA5-w"
   },
   "source": [
    "# Fully Supervised Training"
   ]
  },
  {
   "cell_type": "markdown",
   "id": "2b331232",
   "metadata": {},
   "source": [
    "## Using GPU"
   ]
  },
  {
   "cell_type": "code",
   "execution_count": 11,
   "id": "kKoEe-giMQyU",
   "metadata": {
    "id": "kKoEe-giMQyU"
   },
   "outputs": [],
   "source": [
    "import torch\n",
    "import torchvision\n",
    "from torch import nn\n",
    "import pytorch_lightning as pl"
   ]
  },
  {
   "cell_type": "code",
   "execution_count": 12,
   "id": "VPmN863eJeo4",
   "metadata": {
    "colab": {
     "base_uri": "https://localhost:8080/"
    },
    "id": "VPmN863eJeo4",
    "outputId": "3b8a1b27-7238-4eb6-89ff-b2ca9b5229ab"
   },
   "outputs": [],
   "source": [
    "if not torch.cuda.is_available():\n",
    "  print(\"GPU not available!\")\n",
    "\n",
    "accelerator = \"gpu\" if torch.cuda.is_available() else \"cpu\""
   ]
  },
  {
   "cell_type": "code",
   "execution_count": 13,
   "id": "58045703",
   "metadata": {},
   "outputs": [
    {
     "name": "stdout",
     "output_type": "stream",
     "text": [
      "Requirement already satisfied: seaborn in d:\\projects\\mc959-final-project\\pytorch_env\\lib\\site-packages (0.13.2)\n",
      "Requirement already satisfied: numpy!=1.24.0,>=1.20 in d:\\projects\\mc959-final-project\\pytorch_env\\lib\\site-packages (from seaborn) (1.26.3)\n",
      "Requirement already satisfied: pandas>=1.2 in d:\\projects\\mc959-final-project\\pytorch_env\\lib\\site-packages (from seaborn) (2.2.3)\n",
      "Requirement already satisfied: matplotlib!=3.6.1,>=3.4 in d:\\projects\\mc959-final-project\\pytorch_env\\lib\\site-packages (from seaborn) (3.9.2)\n",
      "Requirement already satisfied: contourpy>=1.0.1 in d:\\projects\\mc959-final-project\\pytorch_env\\lib\\site-packages (from matplotlib!=3.6.1,>=3.4->seaborn) (1.3.0)\n",
      "Requirement already satisfied: cycler>=0.10 in d:\\projects\\mc959-final-project\\pytorch_env\\lib\\site-packages (from matplotlib!=3.6.1,>=3.4->seaborn) (0.12.1)\n",
      "Requirement already satisfied: fonttools>=4.22.0 in d:\\projects\\mc959-final-project\\pytorch_env\\lib\\site-packages (from matplotlib!=3.6.1,>=3.4->seaborn) (4.54.1)\n",
      "Requirement already satisfied: kiwisolver>=1.3.1 in d:\\projects\\mc959-final-project\\pytorch_env\\lib\\site-packages (from matplotlib!=3.6.1,>=3.4->seaborn) (1.4.7)\n",
      "Requirement already satisfied: packaging>=20.0 in d:\\projects\\mc959-final-project\\pytorch_env\\lib\\site-packages (from matplotlib!=3.6.1,>=3.4->seaborn) (24.2)\n",
      "Requirement already satisfied: pillow>=8 in d:\\projects\\mc959-final-project\\pytorch_env\\lib\\site-packages (from matplotlib!=3.6.1,>=3.4->seaborn) (10.2.0)\n",
      "Requirement already satisfied: pyparsing>=2.3.1 in d:\\projects\\mc959-final-project\\pytorch_env\\lib\\site-packages (from matplotlib!=3.6.1,>=3.4->seaborn) (3.2.0)\n",
      "Requirement already satisfied: python-dateutil>=2.7 in d:\\projects\\mc959-final-project\\pytorch_env\\lib\\site-packages (from matplotlib!=3.6.1,>=3.4->seaborn) (2.9.0.post0)\n",
      "Requirement already satisfied: pytz>=2020.1 in d:\\projects\\mc959-final-project\\pytorch_env\\lib\\site-packages (from pandas>=1.2->seaborn) (2024.2)\n",
      "Requirement already satisfied: tzdata>=2022.7 in d:\\projects\\mc959-final-project\\pytorch_env\\lib\\site-packages (from pandas>=1.2->seaborn) (2024.2)\n",
      "Requirement already satisfied: six>=1.5 in d:\\projects\\mc959-final-project\\pytorch_env\\lib\\site-packages (from python-dateutil>=2.7->matplotlib!=3.6.1,>=3.4->seaborn) (1.16.0)\n"
     ]
    },
    {
     "name": "stderr",
     "output_type": "stream",
     "text": [
      "\n",
      "[notice] A new release of pip is available: 24.0 -> 24.3.1\n",
      "[notice] To update, run: python.exe -m pip install --upgrade pip\n"
     ]
    }
   ],
   "source": [
    "!pip install seaborn"
   ]
  },
  {
   "cell_type": "markdown",
   "id": "mqRbi3CSNZ5H",
   "metadata": {
    "id": "mqRbi3CSNZ5H"
   },
   "source": [
    "## Model (Generic CNN with Fully Connected Layers)"
   ]
  },
  {
   "cell_type": "code",
   "execution_count": 14,
   "id": "3OGuid-TNa_L",
   "metadata": {
    "colab": {
     "base_uri": "https://localhost:8080/"
    },
    "id": "3OGuid-TNa_L",
    "outputId": "7e682c93-26eb-4a21-aa4a-5be12c33ca0e"
   },
   "outputs": [
    {
     "data": {
      "text/plain": [
       "tensor([[0.0590, 0.0436]], grad_fn=<AddmmBackward0>)"
      ]
     },
     "execution_count": 14,
     "metadata": {},
     "output_type": "execute_result"
    }
   ],
   "source": [
    "import seaborn as sns\n",
    "from sklearn.metrics import confusion_matrix\n",
    "\n",
    "class SupervisedCNN(pl.LightningModule):\n",
    "    def __init__(self):\n",
    "        super().__init__()\n",
    "        # Instantiate the ResNet backbone\n",
    "        # resnet = torchvision.models.resnet18(pretrained=True)\n",
    "        self.network = nn.Sequential(\n",
    "            nn.Conv2d(3, 6, kernel_size=(9, 9), stride=(1, 1), padding=(4, 4)),\n",
    "            nn.ReLU(),\n",
    "            nn.BatchNorm2d(6, eps=1e-05, momentum=0.1, affine=True, track_running_stats=True),\n",
    "            nn.MaxPool2d(kernel_size=2, stride=2, padding=0, dilation=1, ceil_mode=False),\n",
    "            nn.Conv2d(6, 18, kernel_size=(5, 5), stride=(1, 1), padding=(2, 2)),\n",
    "            nn.ReLU(),\n",
    "            nn.BatchNorm2d(18, eps=1e-05, momentum=0.1, affine=True, track_running_stats=True),\n",
    "            nn.MaxPool2d(kernel_size=2, stride=2, padding=0, dilation=1, ceil_mode=False),\n",
    "            nn.Conv2d(18, 54, kernel_size=(3, 3), stride=(1, 1), padding=(1, 1)),\n",
    "            nn.ReLU(),\n",
    "            nn.BatchNorm2d(54, eps=1e-05, momentum=0.1, affine=True, track_running_stats=True),\n",
    "            nn.MaxPool2d(kernel_size=2, stride=2, padding=0, dilation=1, ceil_mode=False),\n",
    "            nn.Flatten(start_dim=1, end_dim=-1),\n",
    "            nn.Linear(in_features=42336, out_features=864, bias=True),\n",
    "            nn.ReLU(),\n",
    "            nn.Linear(in_features=864, out_features=120, bias=True),\n",
    "            nn.ReLU(),\n",
    "            nn.Linear(in_features=120, out_features=60, bias=True),\n",
    "            nn.ReLU(),\n",
    "            nn.Linear(in_features=60, out_features=10, bias=True),\n",
    "            nn.ReLU(),\n",
    "            nn.Linear(in_features=10, out_features=2, bias=True),\n",
    "        )\n",
    "\n",
    "        self._initialize_weights()\n",
    "\n",
    "        # Initialize losses and accuracies list for tracking loss over epochs\n",
    "        self.train_losses = []\n",
    "        self.train_accuracies = []\n",
    "        self.val_losses = []\n",
    "        self.val_accuracies = []\n",
    "        self.test_losses = []\n",
    "        self.test_accuracies = []\n",
    "        \n",
    "        # Store predictions and labels for confusion matrix\n",
    "        self.val_preds = []\n",
    "        self.val_labels = []\n",
    "        self.test_preds = []\n",
    "        self.test_labels = []\n",
    "\n",
    "    def _initialize_weights(self):\n",
    "      '''\n",
    "      Initialize the network weights using the Xavier initialization.\n",
    "      '''\n",
    "      for x in self.modules():\n",
    "        if isinstance(x, nn.Linear):\n",
    "          torch.nn.init.xavier_uniform_(x.weight.data)\n",
    "          if (x.bias is not None):\n",
    "            x.bias.data.zero_()\n",
    "\n",
    "    def forward(self, x):\n",
    "        logits = self.network(x).flatten(start_dim=1)\n",
    "        return logits\n",
    "\n",
    "    def criterion(self, preds, targets): # , device):\n",
    "      '''\n",
    "      Function that calculates the loss and accuracy of a batch predicted by the model.\n",
    "      '''\n",
    "      ce            = nn.CrossEntropyLoss() # .to(device) # You don't need to change the loss function (but you can if it makes sense on your analysis)\n",
    "      loss          = ce(preds, targets.long())\n",
    "      pred_labels   = torch.max(preds.data, 1)[1] # same as argmax\n",
    "      acc           = torch.sum(pred_labels == targets.data)\n",
    "      n             = pred_labels.size(0)\n",
    "      acc           = acc/n\n",
    "\n",
    "      return loss, acc\n",
    "\n",
    "    def training_step(self, batch, batch_idx):\n",
    "        ims, targets = batch\n",
    "        self.forward(ims)\n",
    "        preds = self.network(ims)\n",
    "        loss, acc = self.criterion(preds, targets) #, accelerator)\n",
    "\n",
    "        # Store the loss value for plotting later\n",
    "        self.train_losses.append(loss)\n",
    "        self.train_accuracies.append(acc)\n",
    "        self.log(\"train_loss\", loss, prog_bar=True)\n",
    "        self.log(\"train_accuracy\", acc, prog_bar=True)\n",
    "\n",
    "        return loss\n",
    "\n",
    "    def validation_step(self, batch, batch_idx):\n",
    "        ims, targets = batch\n",
    "        self.forward(ims)\n",
    "        preds = self.network(ims)\n",
    "        loss, acc = self.criterion(preds, targets) #, accelerator)\n",
    "\n",
    "        self.val_preds.append(preds.argmax(dim=1))\n",
    "        self.val_labels.append(targets)\n",
    "        \n",
    "        self.val_losses.append(loss)\n",
    "        self.val_accuracies.append(acc)\n",
    "        self.log(\"val_loss\", loss, prog_bar=True)\n",
    "        self.log(\"val_accuracy\", acc, prog_bar=True)\n",
    "        \n",
    "    def test_step(self, batch, batch_idx):\n",
    "        ims, targets = batch\n",
    "        self.forward(ims)\n",
    "        preds = self.network(ims)\n",
    "        loss, acc = self.criterion(preds, targets) #, accelerator)\n",
    "\n",
    "        self.test_preds.append(preds.argmax(dim=1))\n",
    "        self.test_labels.append(targets)\n",
    "        \n",
    "        self.test_losses.append(loss)\n",
    "        self.test_accuracies.append(acc)\n",
    "        self.log(\"test_loss\", loss, prog_bar=True)\n",
    "        self.log(\"test_accuracy\", acc, prog_bar=True)\n",
    "\n",
    "    def on_epoch_end(self):\n",
    "        # Calculate and print average loss at the end of each epoch\n",
    "        avg_loss = sum(self.losses) / len(self.losses) if self.losses else 0.0\n",
    "        avg_accuracy = sum(self.accuracies) / len(self.accuracies) if self.accuracies else 0.0\n",
    "        print(f\"Epoch {self.current_epoch + 1}, Average Loss: {avg_loss:.4f}, Average Accuracy: {avg_accuracy:.4f}\")\n",
    "\n",
    "        # Clear losses, acuracies for the next epoch\n",
    "        self.losses.clear()\n",
    "        self.accuracies.clear()\n",
    "        \n",
    "    def on_validation_epoch_end(self):\n",
    "        val_preds = torch.cat(self.val_preds)\n",
    "        val_labels = torch.cat(self.val_labels)\n",
    "\n",
    "        # Compute confusion matrix\n",
    "        cm = confusion_matrix(val_labels.cpu().numpy(), val_preds.cpu().numpy())\n",
    "        \n",
    "        # Plot confusion matrix\n",
    "        self.plot_confusion_matrix(cm)\n",
    "\n",
    "        # Clear stored predictions and labels for the next epoch\n",
    "        self.val_preds.clear()\n",
    "        self.val_labels.clear()\n",
    "    \n",
    "    def on_test_epoch_end(self):\n",
    "        test_preds = torch.cat(self.test_preds)\n",
    "        test_labels = torch.cat(self.test_labels)\n",
    "\n",
    "        # Compute confusion matrix\n",
    "        cm = confusion_matrix(test_labels.cpu().numpy(), test_preds.cpu().numpy())\n",
    "        \n",
    "        # Plot confusion matrix\n",
    "        self.plot_confusion_matrix(cm)\n",
    "\n",
    "        # Clear stored predictions and labels for the next epoch\n",
    "        self.test_preds.clear()\n",
    "        self.test_labels.clear()\n",
    "\n",
    "    def plot_confusion_matrix(self, cm, test=False):\n",
    "        fig, ax = plt.subplots(figsize=(5, 4))\n",
    "        sns.heatmap(cm, annot=True, fmt=\"d\", cmap=\"Blues\", ax=ax)\n",
    "        ax.set_xlabel(\"Predicted labels\")\n",
    "        ax.set_ylabel(\"True labels\")\n",
    "        ax.set_title(\"Confusion Matrix\")\n",
    "\n",
    "        # Log confusion matrix to TensorBoard\n",
    "        self.logger.experiment.add_figure(f\"{\"Test\" if test else \"Validation\"} Confusion Matrix\", fig, self.current_epoch)\n",
    "        plt.close(fig)\n",
    "\n",
    "    def configure_optimizers(self):\n",
    "        optim = torch.optim.Adam(self.parameters(), lr=0.001)\n",
    "        return optim\n",
    "\n",
    "supervised_model = SupervisedCNN()\n",
    "\n",
    "# Test\n",
    "supervised_model.eval()\n",
    "supervised_model.forward(train_dataset[0][0].unsqueeze(0))"
   ]
  },
  {
   "cell_type": "markdown",
   "id": "4f67038b",
   "metadata": {},
   "source": [
    "### Model Training"
   ]
  },
  {
   "cell_type": "code",
   "execution_count": 15,
   "id": "V2CeAYZJR0pb",
   "metadata": {
    "colab": {
     "background_save": true,
     "base_uri": "https://localhost:8080/",
     "height": 355,
     "referenced_widgets": [
      "7392e1fd0c7d4b22bc1a94b1aba0c273",
      "4e637b9a09f74b08958af3f57e6964c8",
      "bc81e1410e2142ce8b21a4cc9c58c12b",
      "62dae54d3dab4bb4b6a7d361569be12d",
      "7b05286d2ffe4461aa6e87739ee9a55d",
      "85ae0c9440e24458b358b8c26fd1de8f",
      "21180d19bbe74b87b2b7f470cd5c40e6",
      "a448acf29b9a4f83a269431de235f0ba",
      "6eb767ebdd8842788c0b2be03862e9c8",
      "122f2d40a0b34b009a10e7d45b3b5f3b",
      "e2d107193b4946c9a6fc867df432f02e",
      "de2565282d5c4b979713d964a9f3b6d4",
      "9d7e20e298554b43aae7dc1aa7a54622",
      "e073c1c1ae6d483a841cd0d59e1a3b0c",
      "8e09f0b7fe154a13b95958f46d2d5b4d",
      "cbaf9fc0def747efbc45851de354b83c",
      "0568ce7cbd54443abab1d711d3f2b19d",
      "ac18bbe0fb5a493a825f692a2f340c2b",
      "4026c727e88449f39c7b81003108bfd8",
      "11d7e155594649bfa0d9ef5b82bcb4a1",
      "261de6558e144840abe2e4d8bdf74321",
      "2d02c7bf23af429883367b3bb8a7b71d",
      "f52c4c723473429ba08a178839abc6a1",
      "ce03fcf8aa484e41bc8e9067b4ad5a31",
      "d9a5bcb454674651892e4964219ce51f",
      "e84bc2908e5b4499b83fac36851ca56c",
      "5442b65ddefd44b2887b67a5692bb062",
      "c6e20124475b495d9ccfcb0a6a8c7505",
      "608b20fcf22a403cb5fab8f5803222fc",
      "40e40b18116042d38cc2f8e451dffebf",
      "3e456e8ae74a480096ecae7116ce13e0",
      "2dc129e1f39d4b5b98974e0350b64b95",
      "a05cf988d8fb469e9518237c4990f513"
     ]
    },
    "id": "V2CeAYZJR0pb",
    "outputId": "e2308526-4111-43e7-811d-084da40cb89c"
   },
   "outputs": [
    {
     "name": "stdout",
     "output_type": "stream",
     "text": [
      "Skipping training, loading model from checkpoint\n"
     ]
    }
   ],
   "source": [
    "torch.set_float32_matmul_precision('medium')\n",
    "\n",
    "from pytorch_lightning.loggers import TensorBoardLogger\n",
    "from pytorch_lightning.callbacks.early_stopping import EarlyStopping\n",
    "\n",
    "checkpoints_folder = './supervised_checkpoints'\n",
    "checkpoint_path = os.path.join(checkpoints_folder, 'tensorboard_logs/fully_supervised/version_0/checkpoints/epoch=7-step=1160.ckpt')\n",
    "tensorboard_logs = checkpoints_folder + '/tensorboard_logs'\n",
    "\n",
    "# On my local env, when num_workers > 0 the execution hangs\n",
    "NUM_WORKERS = 0\n",
    "\n",
    "if os.path.exists(checkpoint_path):\n",
    "  print(\"Skipping training, loading model from checkpoint\")\n",
    "else:\n",
    "  print(\"Training the model...\")\n",
    "\n",
    "  logger = TensorBoardLogger(tensorboard_logs, name=\"fully_supervised\")\n",
    "\n",
    "  os.makedirs(checkpoints_folder, exist_ok=True)\n",
    "  trainer = pl.Trainer(\n",
    "      logger=logger,\n",
    "      max_epochs=100,\n",
    "      devices=1,\n",
    "      accelerator=accelerator,\n",
    "      default_root_dir=checkpoints_folder,\n",
    "      callbacks=[EarlyStopping(monitor=\"val_loss\", mode=\"min\")]\n",
    "    )\n",
    "\n",
    "\n",
    "  train_dataloader = torch.utils.data.DataLoader(\n",
    "      train_dataset,\n",
    "      batch_size=512,\n",
    "      shuffle=True,\n",
    "      # drop_last=True,\n",
    "      num_workers=NUM_WORKERS,\n",
    "  )\n",
    "\n",
    "  valid_dataloader = torch.utils.data.DataLoader(\n",
    "      valid_dataset,\n",
    "      batch_size=256,\n",
    "      shuffle=False,\n",
    "      num_workers=NUM_WORKERS,\n",
    "  )\n",
    "\n",
    "  trainer.fit(\n",
    "      model=supervised_model,\n",
    "      train_dataloaders=train_dataloader,\n",
    "      val_dataloaders=valid_dataloader,\n",
    "      # ckpt_path=\"/content/gdrive/MyDrive/MC959 - Projeto/supervised_checkpoints/lightning_logs/version_2/checkpoints/epoch=3-step=1206.ckpt\"\n",
    "    )"
   ]
  },
  {
   "cell_type": "markdown",
   "id": "9c9cae8c",
   "metadata": {},
   "source": [
    "### Model Training Charts\n",
    "\n",
    "![fully_supervised_train_accuracy.png](./notebook_images/fully_supervised_train_accuracy.png)\n",
    "![fully_supervised_train_loss.png](./notebook_images/fully_supervised_train_loss.png)\n",
    "![fully_supervised_val_accuracy.png](./notebook_images/fully_supervised_val_accuracy.png)\n",
    "![fully_supervised_val_loss.png](./notebook_images/fully_supervised_val_loss.png)\n",
    "\n",
    "Final validation confusion matrix\n",
    "\n",
    "![fully_supervised_val_confusion_matrix_at_end.png](./notebook_images/fully_supervised_val_confusion_matrix_at_end.png)"
   ]
  },
  {
   "cell_type": "markdown",
   "id": "cf400df2",
   "metadata": {},
   "source": [
    "### Model loading from checkpoint (and code to compute test accuracy)"
   ]
  },
  {
   "cell_type": "code",
   "execution_count": 16,
   "id": "f315297c",
   "metadata": {},
   "outputs": [
    {
     "name": "stderr",
     "output_type": "stream",
     "text": [
      "GPU available: True (cuda), used: True\n",
      "TPU available: False, using: 0 TPU cores\n",
      "HPU available: False, using: 0 HPUs\n"
     ]
    }
   ],
   "source": [
    "# Define the path to the checkpoint file\n",
    "checkpoint_path = os.path.join(checkpoints_folder, 'tensorboard_logs/fully_supervised/version_0/checkpoints/epoch=7-step=1160.ckpt')\n",
    "\n",
    "# Load the model from the checkpoint\n",
    "loaded_model = SupervisedCNN.load_from_checkpoint(checkpoint_path)\n",
    "logger = TensorBoardLogger(tensorboard_logs, name=\"fully_supervised_loaded\")\n",
    "\n",
    "loaded_model_trainer = pl.Trainer(\n",
    "    logger=logger,\n",
    "    max_epochs=100,\n",
    "    devices=1,\n",
    "    accelerator=accelerator,\n",
    "    default_root_dir=checkpoints_folder,\n",
    "    callbacks=[EarlyStopping(monitor=\"val_loss\", mode=\"min\")]\n",
    "  )\n",
    "\n",
    "# Move the model to the appropriate device\n",
    "loaded_model.to(device='cuda')\n",
    "\n",
    "# Set the model to evaluation mode\n",
    "loaded_model.eval()\n",
    "\n",
    "# Test the loaded model with a sample image\n",
    "loaded_model.forward(train_dataset[0][0].unsqueeze(0).to(device='cuda'))\n",
    "\n",
    "SHOULD_TEST = False\n",
    "\n",
    "if SHOULD_TEST:\n",
    "  # Create a DataLoader for the test dataset\n",
    "  test_dataloader = torch.utils.data.DataLoader(\n",
    "    test_dataset,\n",
    "    batch_size=256,\n",
    "    shuffle=False,\n",
    "    num_workers=NUM_WORKERS,\n",
    "  )\n",
    "\n",
    "  trainer = pl.Trainer(\n",
    "      logger=logger,\n",
    "      max_epochs=100,\n",
    "      devices=1,\n",
    "      accelerator=accelerator,\n",
    "      default_root_dir=checkpoints_folder,\n",
    "      callbacks=[EarlyStopping(monitor=\"val_loss\", mode=\"min\")]\n",
    "    )\n",
    "\n",
    "  trainer.test(loaded_model, dataloaders=test_dataloader)"
   ]
  },
  {
   "cell_type": "markdown",
   "id": "b18ed9e4",
   "metadata": {},
   "source": [
    "## Model with Resnet 18 + Fully connected layers"
   ]
  },
  {
   "cell_type": "code",
   "execution_count": 20,
   "id": "dafdb550",
   "metadata": {},
   "outputs": [
    {
     "name": "stderr",
     "output_type": "stream",
     "text": [
      "d:\\Projects\\MC959-Final-Project\\pytorch_env\\Lib\\site-packages\\torchvision\\models\\_utils.py:208: UserWarning: The parameter 'pretrained' is deprecated since 0.13 and may be removed in the future, please use 'weights' instead.\n",
      "  warnings.warn(\n",
      "d:\\Projects\\MC959-Final-Project\\pytorch_env\\Lib\\site-packages\\torchvision\\models\\_utils.py:223: UserWarning: Arguments other than a weight enum or `None` for 'weights' are deprecated since 0.13 and may be removed in the future. The current behavior is equivalent to passing `weights=None`.\n",
      "  warnings.warn(msg)\n"
     ]
    },
    {
     "data": {
      "text/plain": [
       "tensor([[1.0536, 0.1283]], grad_fn=<AddmmBackward0>)"
      ]
     },
     "execution_count": 20,
     "metadata": {},
     "output_type": "execute_result"
    }
   ],
   "source": [
    "import seaborn as sns\n",
    "from sklearn.metrics import confusion_matrix\n",
    "\n",
    "class SupervisedResNetCNN(pl.LightningModule):\n",
    "    def __init__(self):\n",
    "        super().__init__()\n",
    "        \n",
    "        # Instantiate the ResNet backbone\n",
    "        resnet = torchvision.models.resnet18(pretrained=False)\n",
    "        self.network = nn.Sequential(\n",
    "            nn.Sequential(*list(resnet.children())[:-1]),\n",
    "            nn.Flatten(start_dim=1, end_dim=-1),\n",
    "            # nn.Linear(in_features=1000, out_features=864, bias=True),\n",
    "            # nn.ReLU(),\n",
    "            nn.Linear(in_features=512, out_features=120, bias=True),\n",
    "            nn.ReLU(),\n",
    "            nn.Linear(in_features=120, out_features=60, bias=True),\n",
    "            nn.ReLU(),\n",
    "            nn.Linear(in_features=60, out_features=10, bias=True),\n",
    "            nn.ReLU(),\n",
    "            nn.Linear(in_features=10, out_features=2, bias=True),\n",
    "        )\n",
    "\n",
    "        self._initialize_weights()\n",
    "\n",
    "        # Initialize losses and accuracies list for tracking loss over epochs\n",
    "        self.train_losses = []\n",
    "        self.train_accuracies = []\n",
    "        self.val_losses = []\n",
    "        self.val_accuracies = []\n",
    "        self.test_losses = []\n",
    "        self.test_accuracies = []\n",
    "        \n",
    "        # Store predictions and labels for confusion matrix\n",
    "        self.val_preds = []\n",
    "        self.val_labels = []\n",
    "        self.test_preds = []\n",
    "        self.test_labels = []\n",
    "\n",
    "    def _initialize_weights(self):\n",
    "      '''\n",
    "      Initialize the network weights using the Xavier initialization.\n",
    "      '''\n",
    "      for x in self.modules():\n",
    "        if isinstance(x, nn.Linear):\n",
    "          torch.nn.init.xavier_uniform_(x.weight.data)\n",
    "          if (x.bias is not None):\n",
    "            x.bias.data.zero_()\n",
    "\n",
    "    def forward(self, x):\n",
    "        logits = self.network(x).flatten(start_dim=1)\n",
    "        return logits\n",
    "\n",
    "    def criterion(self, preds, targets): # , device):\n",
    "      '''\n",
    "      Function that calculates the loss and accuracy of a batch predicted by the model.\n",
    "      '''\n",
    "      ce            = nn.CrossEntropyLoss() # .to(device) # You don't need to change the loss function (but you can if it makes sense on your analysis)\n",
    "      loss          = ce(preds, targets.long())\n",
    "      pred_labels   = torch.max(preds.data, 1)[1] # same as argmax\n",
    "      acc           = torch.sum(pred_labels == targets.data)\n",
    "      n             = pred_labels.size(0)\n",
    "      acc           = acc/n\n",
    "\n",
    "      return loss, acc\n",
    "\n",
    "    def training_step(self, batch, batch_idx):\n",
    "        ims, targets = batch\n",
    "        self.forward(ims)\n",
    "        preds = self.network(ims)\n",
    "        loss, acc = self.criterion(preds, targets) #, accelerator)\n",
    "\n",
    "        # Store the loss value for plotting later\n",
    "        self.train_losses.append(loss)\n",
    "        self.train_accuracies.append(acc)\n",
    "        self.log(\"train_loss\", loss, prog_bar=True)\n",
    "        self.log(\"train_accuracy\", acc, prog_bar=True)\n",
    "\n",
    "        return loss\n",
    "\n",
    "    def validation_step(self, batch, batch_idx):\n",
    "        ims, targets = batch\n",
    "        self.forward(ims)\n",
    "        preds = self.network(ims)\n",
    "        loss, acc = self.criterion(preds, targets) #, accelerator)\n",
    "\n",
    "        self.val_preds.append(preds.argmax(dim=1))\n",
    "        self.val_labels.append(targets)\n",
    "        \n",
    "        self.val_losses.append(loss)\n",
    "        self.val_accuracies.append(acc)\n",
    "        self.log(\"val_loss\", loss, prog_bar=True)\n",
    "        self.log(\"val_accuracy\", acc, prog_bar=True)\n",
    "        \n",
    "    def test_step(self, batch, batch_idx):\n",
    "        ims, targets = batch\n",
    "        self.forward(ims)\n",
    "        preds = self.network(ims)\n",
    "        loss, acc = self.criterion(preds, targets) #, accelerator)\n",
    "\n",
    "        self.test_preds.append(preds.argmax(dim=1))\n",
    "        self.test_labels.append(targets)\n",
    "        \n",
    "        self.test_losses.append(loss)\n",
    "        self.test_accuracies.append(acc)\n",
    "        self.log(\"test_loss\", loss, prog_bar=True)\n",
    "        self.log(\"test_accuracy\", acc, prog_bar=True)\n",
    "\n",
    "    def on_epoch_end(self):\n",
    "        # Calculate and print average loss at the end of each epoch\n",
    "        avg_loss = sum(self.losses) / len(self.losses) if self.losses else 0.0\n",
    "        avg_accuracy = sum(self.accuracies) / len(self.accuracies) if self.accuracies else 0.0\n",
    "        print(f\"Epoch {self.current_epoch + 1}, Average Loss: {avg_loss:.4f}, Average Accuracy: {avg_accuracy:.4f}\")\n",
    "\n",
    "        # Clear losses, acuracies for the next epoch\n",
    "        self.losses.clear()\n",
    "        self.accuracies.clear()\n",
    "        \n",
    "    def on_validation_epoch_end(self):\n",
    "        val_preds = torch.cat(self.val_preds)\n",
    "        val_labels = torch.cat(self.val_labels)\n",
    "\n",
    "        # Compute confusion matrix\n",
    "        cm = confusion_matrix(val_labels.cpu().numpy(), val_preds.cpu().numpy())\n",
    "        \n",
    "        # Plot confusion matrix\n",
    "        self.plot_confusion_matrix(cm)\n",
    "\n",
    "        # Clear stored predictions and labels for the next epoch\n",
    "        self.val_preds.clear()\n",
    "        self.val_labels.clear()\n",
    "    \n",
    "    def on_test_epoch_end(self):\n",
    "        test_preds = torch.cat(self.test_preds)\n",
    "        test_labels = torch.cat(self.test_labels)\n",
    "\n",
    "        # Compute confusion matrix\n",
    "        cm = confusion_matrix(test_labels.cpu().numpy(), test_preds.cpu().numpy())\n",
    "        \n",
    "        # Plot confusion matrix\n",
    "        self.plot_confusion_matrix(cm)\n",
    "\n",
    "        # Clear stored predictions and labels for the next epoch\n",
    "        self.test_preds.clear()\n",
    "        self.test_labels.clear()\n",
    "\n",
    "    def plot_confusion_matrix(self, cm, test=False):\n",
    "        fig, ax = plt.subplots(figsize=(5, 4))\n",
    "        sns.heatmap(cm, annot=True, fmt=\"d\", cmap=\"Blues\", ax=ax)\n",
    "        ax.set_xlabel(\"Predicted labels\")\n",
    "        ax.set_ylabel(\"True labels\")\n",
    "        ax.set_title(\"Confusion Matrix\")\n",
    "\n",
    "        # Log confusion matrix to TensorBoard\n",
    "        self.logger.experiment.add_figure(f\"{\"Test\" if test else \"Validation\"} Confusion Matrix\", fig, self.current_epoch)\n",
    "        plt.close(fig)\n",
    "\n",
    "    def configure_optimizers(self):\n",
    "        optim = torch.optim.Adam(self.parameters(), lr=0.001)\n",
    "        return optim\n",
    "\n",
    "supervised_resnet_model = SupervisedResNetCNN()\n",
    "\n",
    "# Test\n",
    "supervised_resnet_model.eval()\n",
    "supervised_resnet_model.forward(train_dataset[0][0].unsqueeze(0))"
   ]
  },
  {
   "cell_type": "markdown",
   "id": "7e24d5a0",
   "metadata": {},
   "source": [
    "### Model Training\n",
    "\n",
    "Note: The actual finetuning training was done on the `fully_supervised_with_resnet_train.py` script, since on Windows it's not possible to use multiple workers on dataloaders when running in the Jupyter notebook environment."
   ]
  },
  {
   "cell_type": "code",
   "execution_count": 18,
   "id": "b071ef93",
   "metadata": {},
   "outputs": [
    {
     "name": "stdout",
     "output_type": "stream",
     "text": [
      "Skipping training, loading model from checkpoint\n"
     ]
    }
   ],
   "source": [
    "torch.set_float32_matmul_precision('medium')\n",
    "\n",
    "from pytorch_lightning.loggers import TensorBoardLogger\n",
    "from pytorch_lightning.callbacks.early_stopping import EarlyStopping\n",
    "\n",
    "\n",
    "# checkpoints_folder = '/content/gdrive/MyDrive/MC959 - Projeto/supervised_checkpoints'\n",
    "checkpoints_folder = './supervised_checkpoints'\n",
    "tensorboard_logs = checkpoints_folder + '/tensorboard_logs'\n",
    "\n",
    "MODEL_NAME = \"fully_supervised_with_resnet\"\n",
    "checkpoint_path = os.path.join(checkpoints_folder, f'tensorboard_logs/{MODEL_NAME}_on_script/version_13/checkpoints/epoch=12-step=7527.ckpt')\n",
    "\n",
    "# Skip training if the checkpoint file already exists\n",
    "if os.path.exists(checkpoint_path):\n",
    "  print(\"Skipping training, loading model from checkpoint\")\n",
    "else:\n",
    "  print(\"Training the model...\")\n",
    "  logger = TensorBoardLogger(tensorboard_logs, name=MODEL_NAME)\n",
    "\n",
    "  os.makedirs(checkpoints_folder, exist_ok=True)\n",
    "  trainer = pl.Trainer(\n",
    "      logger=logger,\n",
    "      max_epochs=100,\n",
    "      devices=1,\n",
    "      accelerator=accelerator,\n",
    "      default_root_dir=checkpoints_folder,\n",
    "      callbacks=[EarlyStopping(monitor=\"val_loss\", mode=\"min\")]\n",
    "    )\n",
    "\n",
    "  # On my local env, when num_workers > 0 the execution hangs\n",
    "  NUM_WORKERS = 0\n",
    "\n",
    "  train_dataloader = torch.utils.data.DataLoader(\n",
    "      train_dataset,\n",
    "      batch_size=128,\n",
    "      shuffle=True,\n",
    "      num_workers=NUM_WORKERS,\n",
    "  )\n",
    "\n",
    "  valid_dataloader = torch.utils.data.DataLoader(\n",
    "      valid_dataset,\n",
    "      batch_size=128,\n",
    "      shuffle=False,\n",
    "      num_workers=NUM_WORKERS,\n",
    "  )\n",
    "\n",
    "  trainer.fit(\n",
    "      model=supervised_resnet_model,\n",
    "      train_dataloaders=train_dataloader,\n",
    "      val_dataloaders=valid_dataloader,\n",
    "    )"
   ]
  },
  {
   "cell_type": "markdown",
   "id": "bb6c1bec",
   "metadata": {},
   "source": [
    "Training output\n",
    "```\n",
    "\n",
    "  | Name    | Type       | Params | Mode\n",
    "-----------------------------------------------\n",
    "0 | network | Sequential | 11.2 M | train\n",
    "-----------------------------------------------\n",
    "11.2 M    Trainable params\n",
    "0         Non-trainable params\n",
    "11.2 M    Total params\n",
    "44.984    Total estimated model params size (MB)\n",
    "76        Modules in train mode\n",
    "0         Modules in eval mode\n",
    "```"
   ]
  },
  {
   "cell_type": "markdown",
   "id": "1fda3332-b04a-4833-992d-5f7f71e4c689",
   "metadata": {},
   "source": [
    "### Model Training Charts\n",
    "\n",
    "![fully_supervised_with_resnet_train_accuracy.png](./notebook_images/fully_supervised_with_resnet_train_accuracy.png)\n",
    "\n",
    "![fully_supervised_with_resnet_train_loss.png](./notebook_images/fully_supervised_with_resnet_train_loss.png)\n",
    "\n",
    "![fully_supervised_with_resnet_val_accuracy.png](./notebook_images/fully_supervised_with_resnet_val_accuracy.png)\n",
    "\n",
    "![fully_supervised_with_resnet_val_loss.png](./notebook_images/fully_supervised_with_resnet_val_loss.png)\n",
    "\n",
    "Final validation confusion matrix\n",
    "\n",
    "![fully_supervised_with_resnet_val_confusion_matrix_at_end.png](./notebook_images/fully_supervised_with_resnet_val_confusion_matrix_at_end.png)"
   ]
  },
  {
   "cell_type": "markdown",
   "id": "30d4b05c",
   "metadata": {},
   "source": [
    "### Model loading from checkpoint"
   ]
  },
  {
   "cell_type": "code",
   "execution_count": 22,
   "id": "0ad3dcd9",
   "metadata": {},
   "outputs": [
    {
     "name": "stderr",
     "output_type": "stream",
     "text": [
      "d:\\Projects\\MC959-Final-Project\\pytorch_env\\Lib\\site-packages\\torchvision\\models\\_utils.py:208: UserWarning: The parameter 'pretrained' is deprecated since 0.13 and may be removed in the future, please use 'weights' instead.\n",
      "  warnings.warn(\n",
      "d:\\Projects\\MC959-Final-Project\\pytorch_env\\Lib\\site-packages\\torchvision\\models\\_utils.py:223: UserWarning: Arguments other than a weight enum or `None` for 'weights' are deprecated since 0.13 and may be removed in the future. The current behavior is equivalent to passing `weights=None`.\n",
      "  warnings.warn(msg)\n",
      "GPU available: True (cuda), used: True\n",
      "TPU available: False, using: 0 TPU cores\n",
      "HPU available: False, using: 0 HPUs\n"
     ]
    },
    {
     "data": {
      "text/plain": [
       "tensor([[12.0237, -2.4788]], device='cuda:0', grad_fn=<AddmmBackward0>)"
      ]
     },
     "execution_count": 22,
     "metadata": {},
     "output_type": "execute_result"
    }
   ],
   "source": [
    "from pytorch_lightning.loggers import TensorBoardLogger\n",
    "\n",
    "MODEL_NAME = \"fully_supervised_with_resnet\"\n",
    "checkpoint_path = f'supervised_checkpoints/tensorboard_logs/{MODEL_NAME}_on_script/version_13/checkpoints/epoch=12-step=7527.ckpt'\n",
    "\n",
    "# Load the model from the checkpoint\n",
    "loaded_model = SupervisedResNetCNN.load_from_checkpoint(checkpoint_path)\n",
    "logger = TensorBoardLogger('supervised_checkpoints/tensorboard_logs', name=f\"{MODEL_NAME}_loaded\")\n",
    "\n",
    "loaded_model_trainer = pl.Trainer(\n",
    "    logger=logger,\n",
    "    max_epochs=100,\n",
    "    devices=1,\n",
    "    accelerator=accelerator,\n",
    "    default_root_dir='./supervised_checkpoints/',\n",
    "    callbacks=[EarlyStopping(monitor=\"val_loss\", mode=\"min\")]\n",
    "  )\n",
    "\n",
    "# Set the model to evaluation mode\n",
    "loaded_model.eval()\n",
    "\n",
    "# Test the loaded model with a sample image\n",
    "loaded_model.forward(train_dataset[0][0].unsqueeze(0).to(device='cuda'))"
   ]
  },
  {
   "cell_type": "code",
   "execution_count": 23,
   "id": "29345cc3",
   "metadata": {},
   "outputs": [
    {
     "name": "stderr",
     "output_type": "stream",
     "text": [
      "LOCAL_RANK: 0 - CUDA_VISIBLE_DEVICES: [0]\n",
      "d:\\Projects\\MC959-Final-Project\\pytorch_env\\Lib\\site-packages\\pytorch_lightning\\trainer\\connectors\\data_connector.py:424: The 'test_dataloader' does not have many workers which may be a bottleneck. Consider increasing the value of the `num_workers` argument` to `num_workers=15` in the `DataLoader` to improve performance.\n"
     ]
    },
    {
     "name": "stdout",
     "output_type": "stream",
     "text": [
      "Testing DataLoader 0: 100%|██████████| 32/32 [00:16<00:00,  1.95it/s]\n",
      "────────────────────────────────────────────────────────────────────────────────────────────────────────────────────────\n",
      "       Test metric             DataLoader 0\n",
      "────────────────────────────────────────────────────────────────────────────────────────────────────────────────────────\n",
      "      test_accuracy         0.9942039847373962\n",
      "        test_loss           0.02017599530518055\n",
      "────────────────────────────────────────────────────────────────────────────────────────────────────────────────────────\n"
     ]
    }
   ],
   "source": [
    "# Code to test the model with the test dataset\n",
    "\n",
    "SHOULD_TEST = True\n",
    "if SHOULD_TEST:\n",
    "  # Create a DataLoader for the test dataset\n",
    "  test_dataloader = torch.utils.data.DataLoader(\n",
    "    test_dataset,\n",
    "    batch_size=512,\n",
    "    shuffle=False,\n",
    "    num_workers=NUM_WORKERS,\n",
    "  )\n",
    "\n",
    "  loaded_model_trainer.test(loaded_model, dataloaders=test_dataloader)"
   ]
  },
  {
   "cell_type": "markdown",
   "id": "5ca32aaf",
   "metadata": {},
   "source": [
    "## Summary\n",
    "\n",
    "We trained 2 models with fully supervised data.\n",
    "\n",
    "The first model is a generic CNN, with 36.7 M parameters and 146 MB in size. This model achieved 98.9% accuracy on the validation set.\n",
    "\n",
    "The second model uses the ResNet architecture (not pre-trained) with some fully connected layers added. It has 11.2 M parameters and 45 MB in size. This model achieved 99.5% accuracy on the validation set.\n",
    "\n",
    "Since our the CNN with Resnet achieved a better result, we will use it to compare with the model using SWaV.\n",
    "This model achieved 99.4% accuracy on the test set."
   ]
  },
  {
   "cell_type": "markdown",
   "id": "0dabccdb",
   "metadata": {},
   "source": [
    "# Fine tuning"
   ]
  },
  {
   "cell_type": "code",
   "execution_count": null,
   "id": "1",
   "metadata": {
    "colab": {
     "base_uri": "https://localhost:8080/"
    },
    "id": "1",
    "outputId": "65fa47b8-68b9-40e8-a695-eb543e06120d"
   },
   "outputs": [],
   "source": [
    "!pip install lightly"
   ]
  },
  {
   "cell_type": "code",
   "execution_count": 7,
   "id": "4",
   "metadata": {
    "id": "4"
   },
   "outputs": [],
   "source": [
    "from lightly.loss import SwaVLoss\n",
    "from lightly.models.modules import SwaVProjectionHead, SwaVPrototypes\n",
    "from lightly.transforms.swav_transform import SwaVTransform\n",
    "import pytorch_lightning as pl"
   ]
  },
  {
   "cell_type": "markdown",
   "id": "558b65d5",
   "metadata": {},
   "source": [
    "## Obtaining pre trained SWaV model"
   ]
  },
  {
   "cell_type": "code",
   "execution_count": 11,
   "id": "9ef89559",
   "metadata": {},
   "outputs": [
    {
     "name": "stderr",
     "output_type": "stream",
     "text": [
      "Using cache found in C:\\Users\\diego/.cache\\torch\\hub\\facebookresearch_swav_main\n",
      "d:\\Projects\\MC959-Final-Project\\pytorch_env\\Lib\\site-packages\\torchvision\\models\\_utils.py:208: UserWarning: The parameter 'pretrained' is deprecated since 0.13 and may be removed in the future, please use 'weights' instead.\n",
      "  warnings.warn(\n",
      "d:\\Projects\\MC959-Final-Project\\pytorch_env\\Lib\\site-packages\\torchvision\\models\\_utils.py:223: UserWarning: Arguments other than a weight enum or `None` for 'weights' are deprecated since 0.13 and may be removed in the future. The current behavior is equivalent to passing `weights=None`.\n",
      "  warnings.warn(msg)\n"
     ]
    }
   ],
   "source": [
    "import torch\n",
    "swav_resnet = torch.hub.load('facebookresearch/swav:main', 'resnet50')"
   ]
  },
  {
   "cell_type": "code",
   "execution_count": 13,
   "id": "609205c3",
   "metadata": {},
   "outputs": [
    {
     "data": {
      "text/plain": [
       "[Conv2d(3, 64, kernel_size=(7, 7), stride=(2, 2), padding=(3, 3), bias=False),\n",
       " BatchNorm2d(64, eps=1e-05, momentum=0.1, affine=True, track_running_stats=True),\n",
       " ReLU(inplace=True),\n",
       " MaxPool2d(kernel_size=3, stride=2, padding=1, dilation=1, ceil_mode=False),\n",
       " Sequential(\n",
       "   (0): Bottleneck(\n",
       "     (conv1): Conv2d(64, 64, kernel_size=(1, 1), stride=(1, 1), bias=False)\n",
       "     (bn1): BatchNorm2d(64, eps=1e-05, momentum=0.1, affine=True, track_running_stats=True)\n",
       "     (conv2): Conv2d(64, 64, kernel_size=(3, 3), stride=(1, 1), padding=(1, 1), bias=False)\n",
       "     (bn2): BatchNorm2d(64, eps=1e-05, momentum=0.1, affine=True, track_running_stats=True)\n",
       "     (conv3): Conv2d(64, 256, kernel_size=(1, 1), stride=(1, 1), bias=False)\n",
       "     (bn3): BatchNorm2d(256, eps=1e-05, momentum=0.1, affine=True, track_running_stats=True)\n",
       "     (relu): ReLU(inplace=True)\n",
       "     (downsample): Sequential(\n",
       "       (0): Conv2d(64, 256, kernel_size=(1, 1), stride=(1, 1), bias=False)\n",
       "       (1): BatchNorm2d(256, eps=1e-05, momentum=0.1, affine=True, track_running_stats=True)\n",
       "     )\n",
       "   )\n",
       "   (1): Bottleneck(\n",
       "     (conv1): Conv2d(256, 64, kernel_size=(1, 1), stride=(1, 1), bias=False)\n",
       "     (bn1): BatchNorm2d(64, eps=1e-05, momentum=0.1, affine=True, track_running_stats=True)\n",
       "     (conv2): Conv2d(64, 64, kernel_size=(3, 3), stride=(1, 1), padding=(1, 1), bias=False)\n",
       "     (bn2): BatchNorm2d(64, eps=1e-05, momentum=0.1, affine=True, track_running_stats=True)\n",
       "     (conv3): Conv2d(64, 256, kernel_size=(1, 1), stride=(1, 1), bias=False)\n",
       "     (bn3): BatchNorm2d(256, eps=1e-05, momentum=0.1, affine=True, track_running_stats=True)\n",
       "     (relu): ReLU(inplace=True)\n",
       "   )\n",
       "   (2): Bottleneck(\n",
       "     (conv1): Conv2d(256, 64, kernel_size=(1, 1), stride=(1, 1), bias=False)\n",
       "     (bn1): BatchNorm2d(64, eps=1e-05, momentum=0.1, affine=True, track_running_stats=True)\n",
       "     (conv2): Conv2d(64, 64, kernel_size=(3, 3), stride=(1, 1), padding=(1, 1), bias=False)\n",
       "     (bn2): BatchNorm2d(64, eps=1e-05, momentum=0.1, affine=True, track_running_stats=True)\n",
       "     (conv3): Conv2d(64, 256, kernel_size=(1, 1), stride=(1, 1), bias=False)\n",
       "     (bn3): BatchNorm2d(256, eps=1e-05, momentum=0.1, affine=True, track_running_stats=True)\n",
       "     (relu): ReLU(inplace=True)\n",
       "   )\n",
       " ),\n",
       " Sequential(\n",
       "   (0): Bottleneck(\n",
       "     (conv1): Conv2d(256, 128, kernel_size=(1, 1), stride=(1, 1), bias=False)\n",
       "     (bn1): BatchNorm2d(128, eps=1e-05, momentum=0.1, affine=True, track_running_stats=True)\n",
       "     (conv2): Conv2d(128, 128, kernel_size=(3, 3), stride=(2, 2), padding=(1, 1), bias=False)\n",
       "     (bn2): BatchNorm2d(128, eps=1e-05, momentum=0.1, affine=True, track_running_stats=True)\n",
       "     (conv3): Conv2d(128, 512, kernel_size=(1, 1), stride=(1, 1), bias=False)\n",
       "     (bn3): BatchNorm2d(512, eps=1e-05, momentum=0.1, affine=True, track_running_stats=True)\n",
       "     (relu): ReLU(inplace=True)\n",
       "     (downsample): Sequential(\n",
       "       (0): Conv2d(256, 512, kernel_size=(1, 1), stride=(2, 2), bias=False)\n",
       "       (1): BatchNorm2d(512, eps=1e-05, momentum=0.1, affine=True, track_running_stats=True)\n",
       "     )\n",
       "   )\n",
       "   (1): Bottleneck(\n",
       "     (conv1): Conv2d(512, 128, kernel_size=(1, 1), stride=(1, 1), bias=False)\n",
       "     (bn1): BatchNorm2d(128, eps=1e-05, momentum=0.1, affine=True, track_running_stats=True)\n",
       "     (conv2): Conv2d(128, 128, kernel_size=(3, 3), stride=(1, 1), padding=(1, 1), bias=False)\n",
       "     (bn2): BatchNorm2d(128, eps=1e-05, momentum=0.1, affine=True, track_running_stats=True)\n",
       "     (conv3): Conv2d(128, 512, kernel_size=(1, 1), stride=(1, 1), bias=False)\n",
       "     (bn3): BatchNorm2d(512, eps=1e-05, momentum=0.1, affine=True, track_running_stats=True)\n",
       "     (relu): ReLU(inplace=True)\n",
       "   )\n",
       "   (2): Bottleneck(\n",
       "     (conv1): Conv2d(512, 128, kernel_size=(1, 1), stride=(1, 1), bias=False)\n",
       "     (bn1): BatchNorm2d(128, eps=1e-05, momentum=0.1, affine=True, track_running_stats=True)\n",
       "     (conv2): Conv2d(128, 128, kernel_size=(3, 3), stride=(1, 1), padding=(1, 1), bias=False)\n",
       "     (bn2): BatchNorm2d(128, eps=1e-05, momentum=0.1, affine=True, track_running_stats=True)\n",
       "     (conv3): Conv2d(128, 512, kernel_size=(1, 1), stride=(1, 1), bias=False)\n",
       "     (bn3): BatchNorm2d(512, eps=1e-05, momentum=0.1, affine=True, track_running_stats=True)\n",
       "     (relu): ReLU(inplace=True)\n",
       "   )\n",
       "   (3): Bottleneck(\n",
       "     (conv1): Conv2d(512, 128, kernel_size=(1, 1), stride=(1, 1), bias=False)\n",
       "     (bn1): BatchNorm2d(128, eps=1e-05, momentum=0.1, affine=True, track_running_stats=True)\n",
       "     (conv2): Conv2d(128, 128, kernel_size=(3, 3), stride=(1, 1), padding=(1, 1), bias=False)\n",
       "     (bn2): BatchNorm2d(128, eps=1e-05, momentum=0.1, affine=True, track_running_stats=True)\n",
       "     (conv3): Conv2d(128, 512, kernel_size=(1, 1), stride=(1, 1), bias=False)\n",
       "     (bn3): BatchNorm2d(512, eps=1e-05, momentum=0.1, affine=True, track_running_stats=True)\n",
       "     (relu): ReLU(inplace=True)\n",
       "   )\n",
       " ),\n",
       " Sequential(\n",
       "   (0): Bottleneck(\n",
       "     (conv1): Conv2d(512, 256, kernel_size=(1, 1), stride=(1, 1), bias=False)\n",
       "     (bn1): BatchNorm2d(256, eps=1e-05, momentum=0.1, affine=True, track_running_stats=True)\n",
       "     (conv2): Conv2d(256, 256, kernel_size=(3, 3), stride=(2, 2), padding=(1, 1), bias=False)\n",
       "     (bn2): BatchNorm2d(256, eps=1e-05, momentum=0.1, affine=True, track_running_stats=True)\n",
       "     (conv3): Conv2d(256, 1024, kernel_size=(1, 1), stride=(1, 1), bias=False)\n",
       "     (bn3): BatchNorm2d(1024, eps=1e-05, momentum=0.1, affine=True, track_running_stats=True)\n",
       "     (relu): ReLU(inplace=True)\n",
       "     (downsample): Sequential(\n",
       "       (0): Conv2d(512, 1024, kernel_size=(1, 1), stride=(2, 2), bias=False)\n",
       "       (1): BatchNorm2d(1024, eps=1e-05, momentum=0.1, affine=True, track_running_stats=True)\n",
       "     )\n",
       "   )\n",
       "   (1): Bottleneck(\n",
       "     (conv1): Conv2d(1024, 256, kernel_size=(1, 1), stride=(1, 1), bias=False)\n",
       "     (bn1): BatchNorm2d(256, eps=1e-05, momentum=0.1, affine=True, track_running_stats=True)\n",
       "     (conv2): Conv2d(256, 256, kernel_size=(3, 3), stride=(1, 1), padding=(1, 1), bias=False)\n",
       "     (bn2): BatchNorm2d(256, eps=1e-05, momentum=0.1, affine=True, track_running_stats=True)\n",
       "     (conv3): Conv2d(256, 1024, kernel_size=(1, 1), stride=(1, 1), bias=False)\n",
       "     (bn3): BatchNorm2d(1024, eps=1e-05, momentum=0.1, affine=True, track_running_stats=True)\n",
       "     (relu): ReLU(inplace=True)\n",
       "   )\n",
       "   (2): Bottleneck(\n",
       "     (conv1): Conv2d(1024, 256, kernel_size=(1, 1), stride=(1, 1), bias=False)\n",
       "     (bn1): BatchNorm2d(256, eps=1e-05, momentum=0.1, affine=True, track_running_stats=True)\n",
       "     (conv2): Conv2d(256, 256, kernel_size=(3, 3), stride=(1, 1), padding=(1, 1), bias=False)\n",
       "     (bn2): BatchNorm2d(256, eps=1e-05, momentum=0.1, affine=True, track_running_stats=True)\n",
       "     (conv3): Conv2d(256, 1024, kernel_size=(1, 1), stride=(1, 1), bias=False)\n",
       "     (bn3): BatchNorm2d(1024, eps=1e-05, momentum=0.1, affine=True, track_running_stats=True)\n",
       "     (relu): ReLU(inplace=True)\n",
       "   )\n",
       "   (3): Bottleneck(\n",
       "     (conv1): Conv2d(1024, 256, kernel_size=(1, 1), stride=(1, 1), bias=False)\n",
       "     (bn1): BatchNorm2d(256, eps=1e-05, momentum=0.1, affine=True, track_running_stats=True)\n",
       "     (conv2): Conv2d(256, 256, kernel_size=(3, 3), stride=(1, 1), padding=(1, 1), bias=False)\n",
       "     (bn2): BatchNorm2d(256, eps=1e-05, momentum=0.1, affine=True, track_running_stats=True)\n",
       "     (conv3): Conv2d(256, 1024, kernel_size=(1, 1), stride=(1, 1), bias=False)\n",
       "     (bn3): BatchNorm2d(1024, eps=1e-05, momentum=0.1, affine=True, track_running_stats=True)\n",
       "     (relu): ReLU(inplace=True)\n",
       "   )\n",
       "   (4): Bottleneck(\n",
       "     (conv1): Conv2d(1024, 256, kernel_size=(1, 1), stride=(1, 1), bias=False)\n",
       "     (bn1): BatchNorm2d(256, eps=1e-05, momentum=0.1, affine=True, track_running_stats=True)\n",
       "     (conv2): Conv2d(256, 256, kernel_size=(3, 3), stride=(1, 1), padding=(1, 1), bias=False)\n",
       "     (bn2): BatchNorm2d(256, eps=1e-05, momentum=0.1, affine=True, track_running_stats=True)\n",
       "     (conv3): Conv2d(256, 1024, kernel_size=(1, 1), stride=(1, 1), bias=False)\n",
       "     (bn3): BatchNorm2d(1024, eps=1e-05, momentum=0.1, affine=True, track_running_stats=True)\n",
       "     (relu): ReLU(inplace=True)\n",
       "   )\n",
       "   (5): Bottleneck(\n",
       "     (conv1): Conv2d(1024, 256, kernel_size=(1, 1), stride=(1, 1), bias=False)\n",
       "     (bn1): BatchNorm2d(256, eps=1e-05, momentum=0.1, affine=True, track_running_stats=True)\n",
       "     (conv2): Conv2d(256, 256, kernel_size=(3, 3), stride=(1, 1), padding=(1, 1), bias=False)\n",
       "     (bn2): BatchNorm2d(256, eps=1e-05, momentum=0.1, affine=True, track_running_stats=True)\n",
       "     (conv3): Conv2d(256, 1024, kernel_size=(1, 1), stride=(1, 1), bias=False)\n",
       "     (bn3): BatchNorm2d(1024, eps=1e-05, momentum=0.1, affine=True, track_running_stats=True)\n",
       "     (relu): ReLU(inplace=True)\n",
       "   )\n",
       " ),\n",
       " Sequential(\n",
       "   (0): Bottleneck(\n",
       "     (conv1): Conv2d(1024, 512, kernel_size=(1, 1), stride=(1, 1), bias=False)\n",
       "     (bn1): BatchNorm2d(512, eps=1e-05, momentum=0.1, affine=True, track_running_stats=True)\n",
       "     (conv2): Conv2d(512, 512, kernel_size=(3, 3), stride=(2, 2), padding=(1, 1), bias=False)\n",
       "     (bn2): BatchNorm2d(512, eps=1e-05, momentum=0.1, affine=True, track_running_stats=True)\n",
       "     (conv3): Conv2d(512, 2048, kernel_size=(1, 1), stride=(1, 1), bias=False)\n",
       "     (bn3): BatchNorm2d(2048, eps=1e-05, momentum=0.1, affine=True, track_running_stats=True)\n",
       "     (relu): ReLU(inplace=True)\n",
       "     (downsample): Sequential(\n",
       "       (0): Conv2d(1024, 2048, kernel_size=(1, 1), stride=(2, 2), bias=False)\n",
       "       (1): BatchNorm2d(2048, eps=1e-05, momentum=0.1, affine=True, track_running_stats=True)\n",
       "     )\n",
       "   )\n",
       "   (1): Bottleneck(\n",
       "     (conv1): Conv2d(2048, 512, kernel_size=(1, 1), stride=(1, 1), bias=False)\n",
       "     (bn1): BatchNorm2d(512, eps=1e-05, momentum=0.1, affine=True, track_running_stats=True)\n",
       "     (conv2): Conv2d(512, 512, kernel_size=(3, 3), stride=(1, 1), padding=(1, 1), bias=False)\n",
       "     (bn2): BatchNorm2d(512, eps=1e-05, momentum=0.1, affine=True, track_running_stats=True)\n",
       "     (conv3): Conv2d(512, 2048, kernel_size=(1, 1), stride=(1, 1), bias=False)\n",
       "     (bn3): BatchNorm2d(2048, eps=1e-05, momentum=0.1, affine=True, track_running_stats=True)\n",
       "     (relu): ReLU(inplace=True)\n",
       "   )\n",
       "   (2): Bottleneck(\n",
       "     (conv1): Conv2d(2048, 512, kernel_size=(1, 1), stride=(1, 1), bias=False)\n",
       "     (bn1): BatchNorm2d(512, eps=1e-05, momentum=0.1, affine=True, track_running_stats=True)\n",
       "     (conv2): Conv2d(512, 512, kernel_size=(3, 3), stride=(1, 1), padding=(1, 1), bias=False)\n",
       "     (bn2): BatchNorm2d(512, eps=1e-05, momentum=0.1, affine=True, track_running_stats=True)\n",
       "     (conv3): Conv2d(512, 2048, kernel_size=(1, 1), stride=(1, 1), bias=False)\n",
       "     (bn3): BatchNorm2d(2048, eps=1e-05, momentum=0.1, affine=True, track_running_stats=True)\n",
       "     (relu): ReLU(inplace=True)\n",
       "   )\n",
       " ),\n",
       " AdaptiveAvgPool2d(output_size=(1, 1)),\n",
       " Linear(in_features=2048, out_features=1000, bias=True)]"
      ]
     },
     "execution_count": 13,
     "metadata": {},
     "output_type": "execute_result"
    }
   ],
   "source": [
    "list(swav_resnet.children())"
   ]
  },
  {
   "cell_type": "markdown",
   "id": "d8f1108e",
   "metadata": {},
   "source": [
    "We can see that the last layer of the model is a linear layer that maps the representation into a lower dimensional space. Will remove it when finetuning the model."
   ]
  },
  {
   "cell_type": "markdown",
   "id": "Ulfbt88Jnd97",
   "metadata": {
    "id": "Ulfbt88Jnd97"
   },
   "source": [
    "## Dataset without targets (labels ignored in finetuning)"
   ]
  },
  {
   "cell_type": "code",
   "execution_count": 15,
   "id": "axzoR07x_Ih_",
   "metadata": {
    "id": "axzoR07x_Ih_"
   },
   "outputs": [],
   "source": [
    "# Define the transformation using SwaVTransform\n",
    "\n",
    "import torchvision.transforms as transforms\n",
    "from lightly.transforms.swav_transform import SwaVTransform\n",
    "\n",
    "transform = SwaVTransform()\n",
    "\n",
    "dataset = AirbusDataset(\n",
    "  fine_tuning_background_filenames,\n",
    "  fine_tuning_target_filenames,\n",
    "  transform=transform,\n",
    "  target_transform=lambda t: 0,\n",
    ")"
   ]
  },
  {
   "cell_type": "markdown",
   "id": "E5HVqyOjnsbw",
   "metadata": {
    "id": "E5HVqyOjnsbw"
   },
   "source": [
    "## Multi view crop test\n",
    "\n",
    "Small test to see the multi view crop transformation working with a few images."
   ]
  },
  {
   "cell_type": "code",
   "execution_count": 16,
   "id": "RmllnOKr-SUb",
   "metadata": {
    "colab": {
     "base_uri": "https://localhost:8080/"
    },
    "id": "RmllnOKr-SUb",
    "outputId": "b3dcd06f-e1f5-47a2-e94a-6a6d14ae3280"
   },
   "outputs": [],
   "source": [
    "# Create a DataLoader for the dataset\n",
    "dataloader = torch.utils.data.DataLoader(\n",
    "    dataset,\n",
    "    batch_size=128,\n",
    "    shuffle=True,\n",
    "    drop_last=True,\n",
    "    num_workers=0,\n",
    ")"
   ]
  },
  {
   "cell_type": "code",
   "execution_count": 17,
   "id": "g3ccolcH-hFP",
   "metadata": {
    "colab": {
     "base_uri": "https://localhost:8080/"
    },
    "id": "g3ccolcH-hFP",
    "outputId": "b4a17bf2-caed-456b-d57c-413e51a1daa9"
   },
   "outputs": [
    {
     "name": "stdout",
     "output_type": "stream",
     "text": [
      "Shapes of individual crops before concatenation:\n",
      "torch.Size([128, 3, 224, 224])\n",
      "torch.Size([128, 3, 224, 224])\n",
      "torch.Size([128, 3, 96, 96])\n",
      "torch.Size([128, 3, 96, 96])\n",
      "torch.Size([128, 3, 96, 96])\n",
      "torch.Size([128, 3, 96, 96])\n",
      "torch.Size([128, 3, 96, 96])\n",
      "torch.Size([128, 3, 96, 96])\n",
      "Batch 1 \n",
      "Shapes of individual crops before concatenation:\n",
      "torch.Size([128, 3, 224, 224])\n",
      "torch.Size([128, 3, 224, 224])\n",
      "torch.Size([128, 3, 96, 96])\n",
      "torch.Size([128, 3, 96, 96])\n",
      "torch.Size([128, 3, 96, 96])\n",
      "torch.Size([128, 3, 96, 96])\n",
      "torch.Size([128, 3, 96, 96])\n",
      "torch.Size([128, 3, 96, 96])\n",
      "Batch 2 \n",
      "Shapes of individual crops before concatenation:\n",
      "torch.Size([128, 3, 224, 224])\n",
      "torch.Size([128, 3, 224, 224])\n",
      "torch.Size([128, 3, 96, 96])\n",
      "torch.Size([128, 3, 96, 96])\n",
      "torch.Size([128, 3, 96, 96])\n",
      "torch.Size([128, 3, 96, 96])\n",
      "torch.Size([128, 3, 96, 96])\n",
      "torch.Size([128, 3, 96, 96])\n",
      "Batch 3 \n"
     ]
    }
   ],
   "source": [
    "import torch\n",
    "from torchvision import datasets\n",
    "\n",
    "# Example usage: Iterate through the DataLoader\n",
    "batch_count = 0  # Initialize a counter for batches\n",
    "\n",
    "for batch in dataloader:\n",
    "    images = batch[0]  # Extract images from the batch\n",
    "\n",
    "    # Check if images are in a list (multi-crop)\n",
    "    if isinstance(images, list):\n",
    "        # Print shapes for debugging\n",
    "        print(\"Shapes of individual crops before concatenation:\")\n",
    "        for img in images:\n",
    "            print(img.shape)\n",
    "\n",
    "\n",
    "    print(f\"Batch {batch_count + 1} \")  # Check the shape of the images tensor\n",
    "\n",
    "    batch_count += 1  # Increment the batch counter\n",
    "\n",
    "    # Stop after printing the first four batches\n",
    "    if batch_count >= 3:\n",
    "        break\n",
    "    \n"
   ]
  },
  {
   "cell_type": "markdown",
   "id": "tdiYgCQZn1-v",
   "metadata": {
    "id": "tdiYgCQZn1-v"
   },
   "source": [
    "## SWaV model definition\n",
    "\n"
   ]
  },
  {
   "cell_type": "code",
   "execution_count": 7,
   "id": "iOlmEd_N3l1_",
   "metadata": {
    "id": "iOlmEd_N3l1_"
   },
   "outputs": [
    {
     "name": "stderr",
     "output_type": "stream",
     "text": [
      "Using cache found in C:\\Users\\diego/.cache\\torch\\hub\\facebookresearch_swav_main\n",
      "d:\\Projects\\MC959-Final-Project\\pytorch_env\\Lib\\site-packages\\torchvision\\models\\_utils.py:208: UserWarning: The parameter 'pretrained' is deprecated since 0.13 and may be removed in the future, please use 'weights' instead.\n",
      "  warnings.warn(\n",
      "d:\\Projects\\MC959-Final-Project\\pytorch_env\\Lib\\site-packages\\torchvision\\models\\_utils.py:223: UserWarning: Arguments other than a weight enum or `None` for 'weights' are deprecated since 0.13 and may be removed in the future. The current behavior is equivalent to passing `weights=None`.\n",
      "  warnings.warn(msg)\n"
     ]
    }
   ],
   "source": [
    "import pytorch_lightning as pl\n",
    "import torch\n",
    "import torchvision\n",
    "from torch import nn\n",
    "\n",
    "from lightly.loss import SwaVLoss\n",
    "from lightly.models.modules import SwaVProjectionHead, SwaVPrototypes\n",
    "from lightly.models.modules.memory_bank import MemoryBankModule\n",
    "\n",
    "# From: https://docs.lightly.ai/self-supervised-learning/examples/swav.html\n",
    "# We're using the SwAV implementation with Queue since we needed to train with a small batch size.\n",
    "class SwaVQueue(pl.LightningModule):\n",
    "    def __init__(self):\n",
    "        super().__init__()\n",
    "        # Use the pretrained SwAV ResNet model as the backbone\n",
    "        resnet = torch.hub.load('facebookresearch/swav:main', 'resnet50')\n",
    "        \n",
    "        \n",
    "        self.backbone = nn.Sequential(*list(resnet.children())[:-1])  # Remove last layer\n",
    "        \n",
    "        # Freeze the backbone, except the last layers, up to (including) the last convolutional layer\n",
    "        ################################################################################################\n",
    "        self.backbone.eval()\n",
    "        \n",
    "        \n",
    "        backbone_layers = list(self.backbone.children())\n",
    "        \n",
    "        backbone_layers_to_train = [backbone_layers[-1]]\n",
    "\n",
    "        last_layer_of_sequential = list(backbone_layers[-2].children())[-1]\n",
    "        backbone_layers_to_train += [last_layer_of_sequential.relu, last_layer_of_sequential.bn3, last_layer_of_sequential.conv3]\n",
    "        \n",
    "        for layer in backbone_layers_to_train:\n",
    "            layer.train()\n",
    "        ################################################################################################\n",
    "        self.projection_head = SwaVProjectionHead(2048, 512, 128)\n",
    "        self.prototypes = SwaVPrototypes(128, 512, 1)\n",
    "        self.start_queue_at_epoch = 2\n",
    "        self.queues = nn.ModuleList(\n",
    "            [MemoryBankModule(size=(3840, 128)) for _ in range(2)]\n",
    "        )\n",
    "        self.criterion = SwaVLoss()\n",
    "        \n",
    "        # Initialize losses list for tracking loss over epochs\n",
    "        self.losses = []\n",
    "\n",
    "    def training_step(self, batch, batch_idx):\n",
    "        views = batch[0]\n",
    "        high_resolution, low_resolution = views[:2], views[2:]\n",
    "        self.prototypes.normalize()\n",
    "\n",
    "        high_resolution_features = [self._subforward(x) for x in high_resolution]\n",
    "        low_resolution_features = [self._subforward(x) for x in low_resolution]\n",
    "\n",
    "        high_resolution_prototypes = [\n",
    "            self.prototypes(x, self.current_epoch) for x in high_resolution_features\n",
    "        ]\n",
    "        low_resolution_prototypes = [\n",
    "            self.prototypes(x, self.current_epoch) for x in low_resolution_features\n",
    "        ]\n",
    "        queue_prototypes = self._get_queue_prototypes(high_resolution_features)\n",
    "        loss = self.criterion(\n",
    "            high_resolution_prototypes, low_resolution_prototypes, queue_prototypes\n",
    "        )\n",
    "        \n",
    "        # Store the loss value for plotting later\n",
    "        self.log(\"train_loss\", loss, prog_bar=True)\n",
    "        self.losses.append(loss)\n",
    "\n",
    "        return loss\n",
    "    \n",
    "    def on_epoch_end(self):\n",
    "        # Calculate and print average loss at the end of each epoch\n",
    "        avg_loss = sum(self.losses) / len(self.losses) if self.losses else 0.0\n",
    "        print(f\"Epoch {self.current_epoch + 1}, Average Loss: {avg_loss:.4f}\")\n",
    "\n",
    "        # Clear losses for the next epoch\n",
    "        self.losses.clear()\n",
    "        self.log(\"avg_loss\", avg_loss, prog_bar=True)\n",
    "\n",
    "    def configure_optimizers(self):\n",
    "        optim = torch.optim.Adam(self.parameters(), lr=0.0005)\n",
    "        return optim\n",
    "\n",
    "    def _subforward(self, input):\n",
    "        features = self.backbone(input).flatten(start_dim=1)\n",
    "        features = self.projection_head(features)\n",
    "        features = nn.functional.normalize(features, dim=1, p=2)\n",
    "        return features\n",
    "    \n",
    "    def forward(self, input):\n",
    "        return self.prototypes(self._subforward(input), 0)\n",
    "    \n",
    "    @torch.no_grad()\n",
    "    def get_representation(self, input):\n",
    "        return self.backbone(input)\n",
    "\n",
    "    @torch.no_grad()\n",
    "    def _get_queue_prototypes(self, high_resolution_features):\n",
    "        if len(high_resolution_features) != len(self.queues):\n",
    "            raise ValueError(\n",
    "                f\"The number of queues ({len(self.queues)}) should be equal to the number of high \"\n",
    "                f\"resolution inputs ({len(high_resolution_features)}). Set `n_queues` accordingly.\"\n",
    "            )\n",
    "\n",
    "        # Get the queue features\n",
    "        queue_features = []\n",
    "        for i in range(len(self.queues)):\n",
    "            _, features = self.queues[i](high_resolution_features[i], update=True)\n",
    "            # Queue features are in (num_ftrs X queue_length) shape, while the high res\n",
    "            # features are in (batch_size X num_ftrs). Swap the axes for interoperability.\n",
    "            features = torch.permute(features, (1, 0))\n",
    "            queue_features.append(features)\n",
    "\n",
    "        # If loss calculation with queue prototypes starts at a later epoch,\n",
    "        # just queue the features and return None instead of queue prototypes.\n",
    "        if (\n",
    "            self.start_queue_at_epoch > 0\n",
    "            and self.current_epoch < self.start_queue_at_epoch\n",
    "        ):\n",
    "            return None\n",
    "\n",
    "        # Assign prototypes\n",
    "        queue_prototypes = [\n",
    "            self.prototypes(x, self.current_epoch) for x in queue_features\n",
    "        ]\n",
    "        return queue_prototypes\n",
    "\n",
    "# Step 4: Train the Model\n",
    "SwaVmodel = SwaVQueue()\n"
   ]
  },
  {
   "cell_type": "markdown",
   "id": "9-bhkzfqqFnZ",
   "metadata": {
    "id": "9-bhkzfqqFnZ"
   },
   "source": [
    "## Training (fine tuning of SWaV with our dataset)"
   ]
  },
  {
   "cell_type": "markdown",
   "id": "9e027dfb",
   "metadata": {},
   "source": [
    "Note: The actual finetuning training was done on the `swav_finetuning_training.py` script, since on Windows it's not possible to use multiple workers on dataloaders when running in the Jupyter notebook environment."
   ]
  },
  {
   "cell_type": "code",
   "execution_count": null,
   "id": "X6urdFdrn6t2",
   "metadata": {
    "colab": {
     "base_uri": "https://localhost:8080/",
     "height": 407,
     "referenced_widgets": [
      "3ef163e5cd054660a0689f33659ab5f4",
      "f431cb0fcde44064a42a24f640e5fd95",
      "7c6c3cf4ccee4170929143a347dc1af2",
      "674d73e6a7234d8ab7aa23eafdb460a8",
      "4ec87e0ad82549de9a5003ef35006439",
      "3ec102a634524d85829c73146937a06d",
      "b0646ec1b86f45c49e847e46ca0b88e6",
      "18d9e1270cb041a6b9bf058d82801572",
      "ee111ed37dcd428da76574a3aeba2bfa",
      "34aafc1867b6443586ca200601508d1b",
      "c7e6dd22aeef4235a48c79a121927eae"
     ]
    },
    "id": "X6urdFdrn6t2",
    "outputId": "8f3dd592-5543-4d0d-bf93-d5d0498b82af"
   },
   "outputs": [
    {
     "name": "stderr",
     "output_type": "stream",
     "text": [
      "GPU available: True (cuda), used: True\n",
      "TPU available: False, using: 0 TPU cores\n",
      "HPU available: False, using: 0 HPUs\n"
     ]
    },
    {
     "name": "stdout",
     "output_type": "stream",
     "text": [
      "Training the model...\n"
     ]
    },
    {
     "name": "stderr",
     "output_type": "stream",
     "text": [
      "LOCAL_RANK: 0 - CUDA_VISIBLE_DEVICES: [0]\n",
      "\n",
      "  | Name            | Type               | Params | Mode \n",
      "---------------------------------------------------------------\n",
      "0 | backbone        | Sequential         | 23.5 M | eval \n",
      "1 | projection_head | SwaVProjectionHead | 1.1 M  | train\n",
      "2 | prototypes      | SwaVPrototypes     | 66.0 K | train\n",
      "3 | queues          | ModuleList         | 0      | train\n",
      "4 | criterion       | SwaVLoss           | 0      | train\n",
      "---------------------------------------------------------------\n",
      "24.7 M    Trainable params\n",
      "0         Non-trainable params\n",
      "24.7 M    Total params\n",
      "98.757    Total estimated model params size (MB)\n",
      "17        Modules in train mode\n",
      "146       Modules in eval mode\n",
      "d:\\Projects\\MC959-Final-Project\\pytorch_env\\Lib\\site-packages\\pytorch_lightning\\trainer\\connectors\\data_connector.py:424: The 'train_dataloader' does not have many workers which may be a bottleneck. Consider increasing the value of the `num_workers` argument` to `num_workers=15` in the `DataLoader` to improve performance.\n"
     ]
    },
    {
     "name": "stdout",
     "output_type": "stream",
     "text": [
      "Epoch 0:   0%|          | 6/4960 [06:08<84:34:31,  0.02it/s, v_num=3, train_loss=6.290] "
     ]
    }
   ],
   "source": [
    "\n",
    "accelerator = \"gpu\" if torch.cuda.is_available() else \"cpu\"\n",
    "\n",
    "torch.set_float32_matmul_precision('medium')\n",
    "\n",
    "from pytorch_lightning.loggers import TensorBoardLogger\n",
    "from pytorch_lightning.callbacks.early_stopping import EarlyStopping\n",
    "from pytorch_lightning.callbacks import ModelCheckpoint\n",
    "\n",
    "checkpoint_path = 'finetuning/tensorboard_logs/swav_finetuning/version_30/checkpoints/epoch=01-step=15428-train_loss=5.300834655761719.ckpt'\n",
    "\n",
    "# On my local env, when num_workers > 0 the execution hangs\n",
    "NUM_WORKERS = 0\n",
    "\n",
    "if os.path.exists(checkpoint_path):\n",
    "  print(\"Skipping training, loading model from checkpoint\")\n",
    "else:\n",
    "  print(\"Training the model...\")\n",
    "\n",
    "  logger = TensorBoardLogger('finetuning/tensorboard_logs', name=f\"swav_finetuning\")\n",
    "\n",
    "  trainer = pl.Trainer(\n",
    "      logger=logger,\n",
    "      max_epochs=20,\n",
    "      devices=1,\n",
    "      accelerator=accelerator,\n",
    "      default_root_dir='./finetuning',\n",
    "      callbacks=[\n",
    "          ModelCheckpoint(\n",
    "              # Save all checkpoints\n",
    "              save_top_k=99999,\n",
    "              save_last=True,\n",
    "              monitor=\"train_loss\",\n",
    "              mode=\"min\",\n",
    "              # Save checkpoints every quarter epoch\n",
    "              every_n_train_steps=(len(dataset) // 36) // 8,\n",
    "              filename=\"{epoch:02d}-{step:02d}-{train_loss}\",\n",
    "          ),\n",
    "          EarlyStopping(monitor=\"train_loss\", mode=\"min\", patience=7),\n",
    "      ]\n",
    "  )\n",
    "\n",
    "  dataloader = torch.utils.data.DataLoader(\n",
    "      dataset,\n",
    "      batch_size=32,\n",
    "      shuffle=True,\n",
    "      drop_last=True,\n",
    "      persistent_workers=True,\n",
    "      num_workers=3,\n",
    "  )\n",
    "\n",
    "  trainer.fit(\n",
    "      model=SwaVmodel,\n",
    "      train_dataloaders=dataloader,\n",
    "      ckpt_path=\"finetuning/tensorboard_logs/swav_finetuning/version_30/checkpoints/last.ckpt\"\n",
    "  )"
   ]
  },
  {
   "cell_type": "markdown",
   "id": "eab7af1d",
   "metadata": {},
   "source": [
    "We had some technical difficulties to train this model. Due to memory constraints, we had to reduce the batch size to 32, otherwise the RAM and GPU RAM would ran out and training wouldn't even begin.\n",
    "\n",
    "However, the SWaV method works better with large batch sizes, and in [the reference page](https://docs.lightly.ai/self-supervised-learning/examples/swav.html) for implementing the model, the normal implementation is recommended for a batch size larger than 256. We used the implementation with a queue, recommended for lower batch sizes, but definitely not the ideal.\n",
    "\n",
    "Even with this lower batch size, we noticed that the computer would became unstable and the training would get interrupted at seemingly random intervals. Using checkpoints we were able to circumvent this issue, but that's why we trained only for 3 epochs.\n",
    "\n",
    "During training process we noticed that after a point, the training loss started to increase, converging to the value 6.23 after the step 26448. So, we choose the checkpoint with the lowest training loss as the best version of our model, the checkpoint at epoch 1 step 15428. So we can safelly say that more training wouldn't improve our fine tuned model performance."
   ]
  },
  {
   "cell_type": "markdown",
   "id": "0064c8b7-a4ca-4091-a2e6-4bc78e1fbc4b",
   "metadata": {},
   "source": [
    "## Training Charts\n",
    "\n",
    "![swav_finetuning_epoch.png](./notebook_images/swav_finetuning_epoch.png)\n",
    "\n",
    "![swav_finetuning_train_loss.png](./notebook_images/swav_finetuning_train_loss.png)\n",
    "\n",
    "It's possible to see on the chart that the checkpoint we choose roughly matches the train loss minimum in the graph."
   ]
  },
  {
   "cell_type": "markdown",
   "id": "6f125b5e",
   "metadata": {},
   "source": [
    "## Fine tuned model loaded from checkpoint"
   ]
  },
  {
   "cell_type": "code",
   "execution_count": 8,
   "id": "746c8ab8",
   "metadata": {},
   "outputs": [
    {
     "name": "stderr",
     "output_type": "stream",
     "text": [
      "Using cache found in C:\\Users\\diego/.cache\\torch\\hub\\facebookresearch_swav_main\n"
     ]
    },
    {
     "data": {
      "text/plain": [
       "torch.Size([1, 512])"
      ]
     },
     "metadata": {},
     "output_type": "display_data"
    }
   ],
   "source": [
    "from pytorch_lightning.loggers import TensorBoardLogger\n",
    "\n",
    "# Define the path to the checkpoint file\n",
    "checkpoint_path = 'finetuning/tensorboard_logs/swav_finetuning/version_30/checkpoints/epoch=01-step=15428-train_loss=5.300834655761719.ckpt'\n",
    "\n",
    "# Load the model from the checkpoint\n",
    "loaded_swav_model = SwaVQueue.load_from_checkpoint(checkpoint_path)\n",
    "logger = TensorBoardLogger('finetuning/tensorboard_logs', name=f\"swav_finetuning_loaded\")\n",
    "\n",
    "# Set the model to evaluation mode\n",
    "loaded_swav_model.eval()\n",
    "\n",
    "# Test the loaded model with a sample image\n",
    "display(loaded_swav_model.forward(train_dataset[0][0].unsqueeze(0).to(device='cuda')).shape)"
   ]
  },
  {
   "cell_type": "markdown",
   "id": "51640828",
   "metadata": {},
   "source": [
    "# Classification downstream task with fine tuned SWaV model"
   ]
  },
  {
   "cell_type": "markdown",
   "id": "c84e73ba",
   "metadata": {},
   "source": [
    "## Model definition"
   ]
  },
  {
   "cell_type": "code",
   "execution_count": 12,
   "id": "4e57301d",
   "metadata": {},
   "outputs": [],
   "source": [
    "import seaborn as sns\n",
    "from sklearn.metrics import confusion_matrix\n",
    "import matplotlib.pyplot as plt\n",
    "\n",
    "class ClassificatorWithSwaV(pl.LightningModule):\n",
    "    def __init__(self, swav_model):\n",
    "        super().__init__()\n",
    "        \n",
    "        swav_model.eval()\n",
    "        self.network = nn.Sequential(\n",
    "            swav_model,\n",
    "            nn.Flatten(start_dim=1, end_dim=-1),\n",
    "            nn.Linear(in_features=512, out_features=120, bias=True),\n",
    "            nn.ReLU(),\n",
    "            nn.Linear(in_features=120, out_features=60, bias=True),\n",
    "            nn.ReLU(),\n",
    "            nn.Linear(in_features=60, out_features=10, bias=True),\n",
    "            nn.ReLU(),\n",
    "            nn.Linear(in_features=10, out_features=2, bias=True),\n",
    "        )\n",
    "\n",
    "        self._initialize_weights()\n",
    "\n",
    "        # Initialize losses and accuracies list for tracking loss over epochs\n",
    "        self.train_losses = []\n",
    "        self.train_accuracies = []\n",
    "        self.val_losses = []\n",
    "        self.val_accuracies = []\n",
    "        self.test_losses = []\n",
    "        self.test_accuracies = []\n",
    "        \n",
    "        # Store predictions and labels for confusion matrix\n",
    "        self.val_preds = []\n",
    "        self.val_labels = []\n",
    "        self.test_preds = []\n",
    "        self.test_labels = []\n",
    "\n",
    "    def _initialize_weights(self):\n",
    "      '''\n",
    "      Initialize the network weights using the Xavier initialization.\n",
    "      '''\n",
    "      for x in self.modules():\n",
    "        if isinstance(x, nn.Linear):\n",
    "          torch.nn.init.xavier_uniform_(x.weight.data)\n",
    "          if (x.bias is not None):\n",
    "            x.bias.data.zero_()\n",
    "\n",
    "    def forward(self, x):\n",
    "        logits = self.network(x).flatten(start_dim=1)\n",
    "        return logits\n",
    "\n",
    "    def criterion(self, preds, targets): # , device):\n",
    "      '''\n",
    "      Function that calculates the loss and accuracy of a batch predicted by the model.\n",
    "      '''\n",
    "      ce            = nn.CrossEntropyLoss() # .to(device) # You don't need to change the loss function (but you can if it makes sense on your analysis)\n",
    "      loss          = ce(preds, targets.long())\n",
    "      pred_labels   = torch.max(preds.data, 1)[1] # same as argmax\n",
    "      acc           = torch.sum(pred_labels == targets.data)\n",
    "      n             = pred_labels.size(0)\n",
    "      acc           = acc/n\n",
    "\n",
    "      return loss, acc\n",
    "\n",
    "    def training_step(self, batch, batch_idx):\n",
    "        ims, targets = batch\n",
    "        self.forward(ims)\n",
    "        preds = self.network(ims)\n",
    "        loss, acc = self.criterion(preds, targets) #, accelerator)\n",
    "\n",
    "        # Store the loss value for plotting later\n",
    "        self.train_losses.append(loss)\n",
    "        self.train_accuracies.append(acc)\n",
    "        self.log(\"train_loss\", loss, prog_bar=True)\n",
    "        self.log(\"train_accuracy\", acc, prog_bar=True)\n",
    "\n",
    "        return loss\n",
    "\n",
    "    def validation_step(self, batch, batch_idx):\n",
    "        ims, targets = batch\n",
    "        self.forward(ims)\n",
    "        preds = self.network(ims)\n",
    "        loss, acc = self.criterion(preds, targets) #, accelerator)\n",
    "\n",
    "        self.val_preds.append(preds.argmax(dim=1))\n",
    "        self.val_labels.append(targets)\n",
    "        \n",
    "        self.val_losses.append(loss)\n",
    "        self.val_accuracies.append(acc)\n",
    "        self.log(\"val_loss\", loss, prog_bar=True)\n",
    "        self.log(\"val_accuracy\", acc, prog_bar=True)\n",
    "        \n",
    "    def test_step(self, batch, batch_idx):\n",
    "        ims, targets = batch\n",
    "        self.forward(ims)\n",
    "        preds = self.network(ims)\n",
    "        loss, acc = self.criterion(preds, targets) #, accelerator)\n",
    "\n",
    "        self.test_preds.append(preds.argmax(dim=1))\n",
    "        self.test_labels.append(targets)\n",
    "        \n",
    "        self.test_losses.append(loss)\n",
    "        self.test_accuracies.append(acc)\n",
    "        self.log(\"test_loss\", loss, prog_bar=True)\n",
    "        self.log(\"test_accuracy\", acc, prog_bar=True)\n",
    "\n",
    "    def on_epoch_end(self):\n",
    "        # Calculate and print average loss at the end of each epoch\n",
    "        avg_loss = sum(self.losses) / len(self.losses) if self.losses else 0.0\n",
    "        avg_accuracy = sum(self.accuracies) / len(self.accuracies) if self.accuracies else 0.0\n",
    "        print(f\"Epoch {self.current_epoch + 1}, Average Loss: {avg_loss:.4f}, Average Accuracy: {avg_accuracy:.4f}\")\n",
    "\n",
    "        # Clear losses, acuracies for the next epoch\n",
    "        self.losses.clear()\n",
    "        self.accuracies.clear()\n",
    "        \n",
    "    def on_validation_epoch_end(self):\n",
    "        val_preds = torch.cat(self.val_preds)\n",
    "        val_labels = torch.cat(self.val_labels)\n",
    "\n",
    "        # Compute confusion matrix\n",
    "        cm = confusion_matrix(val_labels.cpu().numpy(), val_preds.cpu().numpy())\n",
    "        \n",
    "        # Plot confusion matrix\n",
    "        self.plot_confusion_matrix(cm)\n",
    "\n",
    "        # Clear stored predictions and labels for the next epoch\n",
    "        self.val_preds.clear()\n",
    "        self.val_labels.clear()\n",
    "    \n",
    "    def on_test_epoch_end(self):\n",
    "        test_preds = torch.cat(self.test_preds)\n",
    "        test_labels = torch.cat(self.test_labels)\n",
    "\n",
    "        # Compute confusion matrix\n",
    "        cm = confusion_matrix(test_labels.cpu().numpy(), test_preds.cpu().numpy())\n",
    "        \n",
    "        # Plot confusion matrix\n",
    "        self.plot_confusion_matrix(cm)\n",
    "\n",
    "        # Clear stored predictions and labels for the next epoch\n",
    "        self.test_preds.clear()\n",
    "        self.test_labels.clear()\n",
    "\n",
    "    def plot_confusion_matrix(self, cm, test=False):\n",
    "        fig, ax = plt.subplots(figsize=(5, 4))\n",
    "        sns.heatmap(cm, annot=True, fmt=\"d\", cmap=\"Blues\", ax=ax)\n",
    "        ax.set_xlabel(\"Predicted labels\")\n",
    "        ax.set_ylabel(\"True labels\")\n",
    "        ax.set_title(\"Confusion Matrix\")\n",
    "\n",
    "        # Log confusion matrix to TensorBoard\n",
    "        self.logger.experiment.add_figure(f\"{\"Test\" if test else \"Validation\"} Confusion Matrix\", fig, self.current_epoch)\n",
    "        plt.close(fig)\n",
    "\n",
    "    def configure_optimizers(self):\n",
    "        optim = torch.optim.Adam(self.parameters(), lr=0.0001)\n",
    "        return optim\n",
    "    \n",
    "classificator_with_swav_model = ClassificatorWithSwaV(loaded_swav_model)"
   ]
  },
  {
   "cell_type": "markdown",
   "id": "d3cc8917",
   "metadata": {},
   "source": [
    "## Training"
   ]
  },
  {
   "cell_type": "code",
   "execution_count": 13,
   "id": "a8999671",
   "metadata": {},
   "outputs": [
    {
     "name": "stderr",
     "output_type": "stream",
     "text": [
      "GPU available: True (cuda), used: True\n",
      "TPU available: False, using: 0 TPU cores\n",
      "HPU available: False, using: 0 HPUs\n",
      "LOCAL_RANK: 0 - CUDA_VISIBLE_DEVICES: [0]\n"
     ]
    },
    {
     "name": "stdout",
     "output_type": "stream",
     "text": [
      "Training the model...\n"
     ]
    },
    {
     "name": "stderr",
     "output_type": "stream",
     "text": [
      "\n",
      "  | Name    | Type       | Params | Mode \n",
      "-----------------------------------------------\n",
      "0 | network | Sequential | 24.8 M | train\n",
      "-----------------------------------------------\n",
      "24.7 M    Trainable params\n",
      "66.0 K    Non-trainable params\n",
      "24.8 M    Total params\n",
      "99.035    Total estimated model params size (MB)\n",
      "9         Modules in train mode\n",
      "164       Modules in eval mode\n"
     ]
    },
    {
     "name": "stdout",
     "output_type": "stream",
     "text": [
      "Sanity Checking: |          | 0/? [00:00<?, ?it/s]"
     ]
    },
    {
     "name": "stderr",
     "output_type": "stream",
     "text": [
      "d:\\Projects\\MC959-Final-Project\\pytorch_env\\Lib\\site-packages\\pytorch_lightning\\trainer\\connectors\\data_connector.py:424: The 'val_dataloader' does not have many workers which may be a bottleneck. Consider increasing the value of the `num_workers` argument` to `num_workers=15` in the `DataLoader` to improve performance.\n"
     ]
    },
    {
     "name": "stdout",
     "output_type": "stream",
     "text": [
      "                                                                           "
     ]
    },
    {
     "name": "stderr",
     "output_type": "stream",
     "text": [
      "d:\\Projects\\MC959-Final-Project\\pytorch_env\\Lib\\site-packages\\pytorch_lightning\\trainer\\connectors\\data_connector.py:424: The 'train_dataloader' does not have many workers which may be a bottleneck. Consider increasing the value of the `num_workers` argument` to `num_workers=15` in the `DataLoader` to improve performance.\n"
     ]
    },
    {
     "name": "stdout",
     "output_type": "stream",
     "text": [
      "Epoch 8:   6%|▌         | 44/741 [00:16<04:28,  2.60it/s, v_num=5, train_loss=0.000103, train_accuracy=1.000, val_loss=0.0124, val_accuracy=0.996] "
     ]
    },
    {
     "name": "stderr",
     "output_type": "stream",
     "text": [
      "\n",
      "Detected KeyboardInterrupt, attempting graceful shutdown ...\n"
     ]
    },
    {
     "name": "stdout",
     "output_type": "stream",
     "text": [
      "                                                                           \r"
     ]
    },
    {
     "ename": "NameError",
     "evalue": "name 'exit' is not defined",
     "output_type": "error",
     "traceback": [
      "\u001b[1;31m---------------------------------------------------------------------------\u001b[0m",
      "\u001b[1;31mKeyboardInterrupt\u001b[0m                         Traceback (most recent call last)",
      "File \u001b[1;32md:\\Projects\\MC959-Final-Project\\pytorch_env\\Lib\\site-packages\\pytorch_lightning\\trainer\\call.py:47\u001b[0m, in \u001b[0;36m_call_and_handle_interrupt\u001b[1;34m(trainer, trainer_fn, *args, **kwargs)\u001b[0m\n\u001b[0;32m     46\u001b[0m         \u001b[38;5;28;01mreturn\u001b[39;00m trainer\u001b[38;5;241m.\u001b[39mstrategy\u001b[38;5;241m.\u001b[39mlauncher\u001b[38;5;241m.\u001b[39mlaunch(trainer_fn, \u001b[38;5;241m*\u001b[39margs, trainer\u001b[38;5;241m=\u001b[39mtrainer, \u001b[38;5;241m*\u001b[39m\u001b[38;5;241m*\u001b[39mkwargs)\n\u001b[1;32m---> 47\u001b[0m     \u001b[38;5;28;01mreturn\u001b[39;00m \u001b[43mtrainer_fn\u001b[49m\u001b[43m(\u001b[49m\u001b[38;5;241;43m*\u001b[39;49m\u001b[43margs\u001b[49m\u001b[43m,\u001b[49m\u001b[43m \u001b[49m\u001b[38;5;241;43m*\u001b[39;49m\u001b[38;5;241;43m*\u001b[39;49m\u001b[43mkwargs\u001b[49m\u001b[43m)\u001b[49m\n\u001b[0;32m     49\u001b[0m \u001b[38;5;28;01mexcept\u001b[39;00m _TunerExitException:\n",
      "File \u001b[1;32md:\\Projects\\MC959-Final-Project\\pytorch_env\\Lib\\site-packages\\pytorch_lightning\\trainer\\trainer.py:574\u001b[0m, in \u001b[0;36mTrainer._fit_impl\u001b[1;34m(self, model, train_dataloaders, val_dataloaders, datamodule, ckpt_path)\u001b[0m\n\u001b[0;32m    568\u001b[0m ckpt_path \u001b[38;5;241m=\u001b[39m \u001b[38;5;28mself\u001b[39m\u001b[38;5;241m.\u001b[39m_checkpoint_connector\u001b[38;5;241m.\u001b[39m_select_ckpt_path(\n\u001b[0;32m    569\u001b[0m     \u001b[38;5;28mself\u001b[39m\u001b[38;5;241m.\u001b[39mstate\u001b[38;5;241m.\u001b[39mfn,\n\u001b[0;32m    570\u001b[0m     ckpt_path,\n\u001b[0;32m    571\u001b[0m     model_provided\u001b[38;5;241m=\u001b[39m\u001b[38;5;28;01mTrue\u001b[39;00m,\n\u001b[0;32m    572\u001b[0m     model_connected\u001b[38;5;241m=\u001b[39m\u001b[38;5;28mself\u001b[39m\u001b[38;5;241m.\u001b[39mlightning_module \u001b[38;5;129;01mis\u001b[39;00m \u001b[38;5;129;01mnot\u001b[39;00m \u001b[38;5;28;01mNone\u001b[39;00m,\n\u001b[0;32m    573\u001b[0m )\n\u001b[1;32m--> 574\u001b[0m \u001b[38;5;28;43mself\u001b[39;49m\u001b[38;5;241;43m.\u001b[39;49m\u001b[43m_run\u001b[49m\u001b[43m(\u001b[49m\u001b[43mmodel\u001b[49m\u001b[43m,\u001b[49m\u001b[43m \u001b[49m\u001b[43mckpt_path\u001b[49m\u001b[38;5;241;43m=\u001b[39;49m\u001b[43mckpt_path\u001b[49m\u001b[43m)\u001b[49m\n\u001b[0;32m    576\u001b[0m \u001b[38;5;28;01massert\u001b[39;00m \u001b[38;5;28mself\u001b[39m\u001b[38;5;241m.\u001b[39mstate\u001b[38;5;241m.\u001b[39mstopped\n",
      "File \u001b[1;32md:\\Projects\\MC959-Final-Project\\pytorch_env\\Lib\\site-packages\\pytorch_lightning\\trainer\\trainer.py:981\u001b[0m, in \u001b[0;36mTrainer._run\u001b[1;34m(self, model, ckpt_path)\u001b[0m\n\u001b[0;32m    978\u001b[0m \u001b[38;5;66;03m# ----------------------------\u001b[39;00m\n\u001b[0;32m    979\u001b[0m \u001b[38;5;66;03m# RUN THE TRAINER\u001b[39;00m\n\u001b[0;32m    980\u001b[0m \u001b[38;5;66;03m# ----------------------------\u001b[39;00m\n\u001b[1;32m--> 981\u001b[0m results \u001b[38;5;241m=\u001b[39m \u001b[38;5;28;43mself\u001b[39;49m\u001b[38;5;241;43m.\u001b[39;49m\u001b[43m_run_stage\u001b[49m\u001b[43m(\u001b[49m\u001b[43m)\u001b[49m\n\u001b[0;32m    983\u001b[0m \u001b[38;5;66;03m# ----------------------------\u001b[39;00m\n\u001b[0;32m    984\u001b[0m \u001b[38;5;66;03m# POST-Training CLEAN UP\u001b[39;00m\n\u001b[0;32m    985\u001b[0m \u001b[38;5;66;03m# ----------------------------\u001b[39;00m\n",
      "File \u001b[1;32md:\\Projects\\MC959-Final-Project\\pytorch_env\\Lib\\site-packages\\pytorch_lightning\\trainer\\trainer.py:1025\u001b[0m, in \u001b[0;36mTrainer._run_stage\u001b[1;34m(self)\u001b[0m\n\u001b[0;32m   1024\u001b[0m \u001b[38;5;28;01mwith\u001b[39;00m torch\u001b[38;5;241m.\u001b[39mautograd\u001b[38;5;241m.\u001b[39mset_detect_anomaly(\u001b[38;5;28mself\u001b[39m\u001b[38;5;241m.\u001b[39m_detect_anomaly):\n\u001b[1;32m-> 1025\u001b[0m     \u001b[38;5;28;43mself\u001b[39;49m\u001b[38;5;241;43m.\u001b[39;49m\u001b[43mfit_loop\u001b[49m\u001b[38;5;241;43m.\u001b[39;49m\u001b[43mrun\u001b[49m\u001b[43m(\u001b[49m\u001b[43m)\u001b[49m\n\u001b[0;32m   1026\u001b[0m \u001b[38;5;28;01mreturn\u001b[39;00m \u001b[38;5;28;01mNone\u001b[39;00m\n",
      "File \u001b[1;32md:\\Projects\\MC959-Final-Project\\pytorch_env\\Lib\\site-packages\\pytorch_lightning\\loops\\fit_loop.py:205\u001b[0m, in \u001b[0;36m_FitLoop.run\u001b[1;34m(self)\u001b[0m\n\u001b[0;32m    204\u001b[0m \u001b[38;5;28mself\u001b[39m\u001b[38;5;241m.\u001b[39mon_advance_start()\n\u001b[1;32m--> 205\u001b[0m \u001b[38;5;28;43mself\u001b[39;49m\u001b[38;5;241;43m.\u001b[39;49m\u001b[43madvance\u001b[49m\u001b[43m(\u001b[49m\u001b[43m)\u001b[49m\n\u001b[0;32m    206\u001b[0m \u001b[38;5;28mself\u001b[39m\u001b[38;5;241m.\u001b[39mon_advance_end()\n",
      "File \u001b[1;32md:\\Projects\\MC959-Final-Project\\pytorch_env\\Lib\\site-packages\\pytorch_lightning\\loops\\fit_loop.py:363\u001b[0m, in \u001b[0;36m_FitLoop.advance\u001b[1;34m(self)\u001b[0m\n\u001b[0;32m    362\u001b[0m \u001b[38;5;28;01massert\u001b[39;00m \u001b[38;5;28mself\u001b[39m\u001b[38;5;241m.\u001b[39m_data_fetcher \u001b[38;5;129;01mis\u001b[39;00m \u001b[38;5;129;01mnot\u001b[39;00m \u001b[38;5;28;01mNone\u001b[39;00m\n\u001b[1;32m--> 363\u001b[0m \u001b[38;5;28;43mself\u001b[39;49m\u001b[38;5;241;43m.\u001b[39;49m\u001b[43mepoch_loop\u001b[49m\u001b[38;5;241;43m.\u001b[39;49m\u001b[43mrun\u001b[49m\u001b[43m(\u001b[49m\u001b[38;5;28;43mself\u001b[39;49m\u001b[38;5;241;43m.\u001b[39;49m\u001b[43m_data_fetcher\u001b[49m\u001b[43m)\u001b[49m\n",
      "File \u001b[1;32md:\\Projects\\MC959-Final-Project\\pytorch_env\\Lib\\site-packages\\pytorch_lightning\\loops\\training_epoch_loop.py:140\u001b[0m, in \u001b[0;36m_TrainingEpochLoop.run\u001b[1;34m(self, data_fetcher)\u001b[0m\n\u001b[0;32m    139\u001b[0m \u001b[38;5;28;01mtry\u001b[39;00m:\n\u001b[1;32m--> 140\u001b[0m     \u001b[38;5;28;43mself\u001b[39;49m\u001b[38;5;241;43m.\u001b[39;49m\u001b[43madvance\u001b[49m\u001b[43m(\u001b[49m\u001b[43mdata_fetcher\u001b[49m\u001b[43m)\u001b[49m\n\u001b[0;32m    141\u001b[0m     \u001b[38;5;28mself\u001b[39m\u001b[38;5;241m.\u001b[39mon_advance_end(data_fetcher)\n",
      "File \u001b[1;32md:\\Projects\\MC959-Final-Project\\pytorch_env\\Lib\\site-packages\\pytorch_lightning\\loops\\training_epoch_loop.py:269\u001b[0m, in \u001b[0;36m_TrainingEpochLoop.advance\u001b[1;34m(self, data_fetcher)\u001b[0m\n\u001b[0;32m    267\u001b[0m     \u001b[38;5;28mself\u001b[39m\u001b[38;5;241m.\u001b[39mbatch_progress\u001b[38;5;241m.\u001b[39mis_last_batch \u001b[38;5;241m=\u001b[39m data_fetcher\u001b[38;5;241m.\u001b[39mdone\n\u001b[1;32m--> 269\u001b[0m \u001b[43mcall\u001b[49m\u001b[38;5;241;43m.\u001b[39;49m\u001b[43m_call_callback_hooks\u001b[49m\u001b[43m(\u001b[49m\u001b[43mtrainer\u001b[49m\u001b[43m,\u001b[49m\u001b[43m \u001b[49m\u001b[38;5;124;43m\"\u001b[39;49m\u001b[38;5;124;43mon_train_batch_end\u001b[39;49m\u001b[38;5;124;43m\"\u001b[39;49m\u001b[43m,\u001b[49m\u001b[43m \u001b[49m\u001b[43mbatch_output\u001b[49m\u001b[43m,\u001b[49m\u001b[43m \u001b[49m\u001b[43mbatch\u001b[49m\u001b[43m,\u001b[49m\u001b[43m \u001b[49m\u001b[43mbatch_idx\u001b[49m\u001b[43m)\u001b[49m\n\u001b[0;32m    270\u001b[0m call\u001b[38;5;241m.\u001b[39m_call_lightning_module_hook(trainer, \u001b[38;5;124m\"\u001b[39m\u001b[38;5;124mon_train_batch_end\u001b[39m\u001b[38;5;124m\"\u001b[39m, batch_output, batch, batch_idx)\n",
      "File \u001b[1;32md:\\Projects\\MC959-Final-Project\\pytorch_env\\Lib\\site-packages\\pytorch_lightning\\trainer\\call.py:218\u001b[0m, in \u001b[0;36m_call_callback_hooks\u001b[1;34m(trainer, hook_name, monitoring_callbacks, *args, **kwargs)\u001b[0m\n\u001b[0;32m    217\u001b[0m         \u001b[38;5;28;01mwith\u001b[39;00m trainer\u001b[38;5;241m.\u001b[39mprofiler\u001b[38;5;241m.\u001b[39mprofile(\u001b[38;5;124mf\u001b[39m\u001b[38;5;124m\"\u001b[39m\u001b[38;5;124m[Callback]\u001b[39m\u001b[38;5;132;01m{\u001b[39;00mcallback\u001b[38;5;241m.\u001b[39mstate_key\u001b[38;5;132;01m}\u001b[39;00m\u001b[38;5;124m.\u001b[39m\u001b[38;5;132;01m{\u001b[39;00mhook_name\u001b[38;5;132;01m}\u001b[39;00m\u001b[38;5;124m\"\u001b[39m):\n\u001b[1;32m--> 218\u001b[0m             \u001b[43mfn\u001b[49m\u001b[43m(\u001b[49m\u001b[43mtrainer\u001b[49m\u001b[43m,\u001b[49m\u001b[43m \u001b[49m\u001b[43mtrainer\u001b[49m\u001b[38;5;241;43m.\u001b[39;49m\u001b[43mlightning_module\u001b[49m\u001b[43m,\u001b[49m\u001b[43m \u001b[49m\u001b[38;5;241;43m*\u001b[39;49m\u001b[43margs\u001b[49m\u001b[43m,\u001b[49m\u001b[43m \u001b[49m\u001b[38;5;241;43m*\u001b[39;49m\u001b[38;5;241;43m*\u001b[39;49m\u001b[43mkwargs\u001b[49m\u001b[43m)\u001b[49m\n\u001b[0;32m    220\u001b[0m \u001b[38;5;28;01mif\u001b[39;00m pl_module:\n\u001b[0;32m    221\u001b[0m     \u001b[38;5;66;03m# restore current_fx when nested context\u001b[39;00m\n",
      "File \u001b[1;32md:\\Projects\\MC959-Final-Project\\pytorch_env\\Lib\\site-packages\\pytorch_lightning\\callbacks\\progress\\tqdm_progress.py:279\u001b[0m, in \u001b[0;36mTQDMProgressBar.on_train_batch_end\u001b[1;34m(self, trainer, pl_module, outputs, batch, batch_idx)\u001b[0m\n\u001b[0;32m    278\u001b[0m _update_n(\u001b[38;5;28mself\u001b[39m\u001b[38;5;241m.\u001b[39mtrain_progress_bar, n)\n\u001b[1;32m--> 279\u001b[0m \u001b[38;5;28mself\u001b[39m\u001b[38;5;241m.\u001b[39mtrain_progress_bar\u001b[38;5;241m.\u001b[39mset_postfix(\u001b[38;5;28;43mself\u001b[39;49m\u001b[38;5;241;43m.\u001b[39;49m\u001b[43mget_metrics\u001b[49m\u001b[43m(\u001b[49m\u001b[43mtrainer\u001b[49m\u001b[43m,\u001b[49m\u001b[43m \u001b[49m\u001b[43mpl_module\u001b[49m\u001b[43m)\u001b[49m)\n",
      "File \u001b[1;32md:\\Projects\\MC959-Final-Project\\pytorch_env\\Lib\\site-packages\\pytorch_lightning\\callbacks\\progress\\progress_bar.py:198\u001b[0m, in \u001b[0;36mProgressBar.get_metrics\u001b[1;34m(self, trainer, pl_module)\u001b[0m\n\u001b[0;32m    197\u001b[0m standard_metrics \u001b[38;5;241m=\u001b[39m get_standard_metrics(trainer)\n\u001b[1;32m--> 198\u001b[0m pbar_metrics \u001b[38;5;241m=\u001b[39m \u001b[43mtrainer\u001b[49m\u001b[38;5;241;43m.\u001b[39;49m\u001b[43mprogress_bar_metrics\u001b[49m\n\u001b[0;32m    199\u001b[0m duplicates \u001b[38;5;241m=\u001b[39m \u001b[38;5;28mlist\u001b[39m(standard_metrics\u001b[38;5;241m.\u001b[39mkeys() \u001b[38;5;241m&\u001b[39m pbar_metrics\u001b[38;5;241m.\u001b[39mkeys())\n",
      "File \u001b[1;32md:\\Projects\\MC959-Final-Project\\pytorch_env\\Lib\\site-packages\\pytorch_lightning\\trainer\\trainer.py:1635\u001b[0m, in \u001b[0;36mTrainer.progress_bar_metrics\u001b[1;34m(self)\u001b[0m\n\u001b[0;32m   1629\u001b[0m \u001b[38;5;250m\u001b[39m\u001b[38;5;124;03m\"\"\"The metrics sent to the progress bar.\u001b[39;00m\n\u001b[0;32m   1630\u001b[0m \n\u001b[0;32m   1631\u001b[0m \u001b[38;5;124;03mThis includes metrics logged via :meth:`~pytorch_lightning.core.LightningModule.log` with the\u001b[39;00m\n\u001b[0;32m   1632\u001b[0m \u001b[38;5;124;03m:paramref:`~pytorch_lightning.core.LightningModule.log.prog_bar` argument set.\u001b[39;00m\n\u001b[0;32m   1633\u001b[0m \n\u001b[0;32m   1634\u001b[0m \u001b[38;5;124;03m\"\"\"\u001b[39;00m\n\u001b[1;32m-> 1635\u001b[0m \u001b[38;5;28;01mreturn\u001b[39;00m \u001b[38;5;28;43mself\u001b[39;49m\u001b[38;5;241;43m.\u001b[39;49m\u001b[43m_logger_connector\u001b[49m\u001b[38;5;241;43m.\u001b[39;49m\u001b[43mprogress_bar_metrics\u001b[49m\n",
      "File \u001b[1;32md:\\Projects\\MC959-Final-Project\\pytorch_env\\Lib\\site-packages\\pytorch_lightning\\trainer\\connectors\\logger_connector\\logger_connector.py:253\u001b[0m, in \u001b[0;36m_LoggerConnector.progress_bar_metrics\u001b[1;34m(self)\u001b[0m\n\u001b[0;32m    252\u001b[0m \u001b[38;5;28;01mif\u001b[39;00m \u001b[38;5;28mself\u001b[39m\u001b[38;5;241m.\u001b[39mtrainer\u001b[38;5;241m.\u001b[39m_results:\n\u001b[1;32m--> 253\u001b[0m     metrics \u001b[38;5;241m=\u001b[39m \u001b[38;5;28;43mself\u001b[39;49m\u001b[38;5;241;43m.\u001b[39;49m\u001b[43mmetrics\u001b[49m[\u001b[38;5;124m\"\u001b[39m\u001b[38;5;124mpbar\u001b[39m\u001b[38;5;124m\"\u001b[39m]\n\u001b[0;32m    254\u001b[0m     \u001b[38;5;28mself\u001b[39m\u001b[38;5;241m.\u001b[39m_progress_bar_metrics\u001b[38;5;241m.\u001b[39mupdate(metrics)\n",
      "File \u001b[1;32md:\\Projects\\MC959-Final-Project\\pytorch_env\\Lib\\site-packages\\pytorch_lightning\\trainer\\connectors\\logger_connector\\logger_connector.py:234\u001b[0m, in \u001b[0;36m_LoggerConnector.metrics\u001b[1;34m(self)\u001b[0m\n\u001b[0;32m    233\u001b[0m \u001b[38;5;28;01massert\u001b[39;00m \u001b[38;5;28mself\u001b[39m\u001b[38;5;241m.\u001b[39mtrainer\u001b[38;5;241m.\u001b[39m_results \u001b[38;5;129;01mis\u001b[39;00m \u001b[38;5;129;01mnot\u001b[39;00m \u001b[38;5;28;01mNone\u001b[39;00m\n\u001b[1;32m--> 234\u001b[0m \u001b[38;5;28;01mreturn\u001b[39;00m \u001b[38;5;28;43mself\u001b[39;49m\u001b[38;5;241;43m.\u001b[39;49m\u001b[43mtrainer\u001b[49m\u001b[38;5;241;43m.\u001b[39;49m\u001b[43m_results\u001b[49m\u001b[38;5;241;43m.\u001b[39;49m\u001b[43mmetrics\u001b[49m\u001b[43m(\u001b[49m\u001b[43mon_step\u001b[49m\u001b[43m)\u001b[49m\n",
      "File \u001b[1;32md:\\Projects\\MC959-Final-Project\\pytorch_env\\Lib\\site-packages\\pytorch_lightning\\trainer\\connectors\\logger_connector\\result.py:490\u001b[0m, in \u001b[0;36m_ResultCollection.metrics\u001b[1;34m(self, on_step)\u001b[0m\n\u001b[0;32m    489\u001b[0m     \u001b[38;5;28;01mif\u001b[39;00m result_metric\u001b[38;5;241m.\u001b[39mmeta\u001b[38;5;241m.\u001b[39mprog_bar:\n\u001b[1;32m--> 490\u001b[0m         metrics[\u001b[38;5;124m\"\u001b[39m\u001b[38;5;124mpbar\u001b[39m\u001b[38;5;124m\"\u001b[39m][forked_name] \u001b[38;5;241m=\u001b[39m \u001b[43mconvert_tensors_to_scalars\u001b[49m\u001b[43m(\u001b[49m\u001b[43mvalue\u001b[49m\u001b[43m)\u001b[49m\n\u001b[0;32m    492\u001b[0m \u001b[38;5;28;01mreturn\u001b[39;00m metrics\n",
      "File \u001b[1;32md:\\Projects\\MC959-Final-Project\\pytorch_env\\Lib\\site-packages\\lightning_fabric\\utilities\\apply_func.py:136\u001b[0m, in \u001b[0;36mconvert_tensors_to_scalars\u001b[1;34m(data)\u001b[0m\n\u001b[0;32m    134\u001b[0m     \u001b[38;5;28;01mreturn\u001b[39;00m value\u001b[38;5;241m.\u001b[39mitem()\n\u001b[1;32m--> 136\u001b[0m \u001b[38;5;28;01mreturn\u001b[39;00m \u001b[43mapply_to_collection\u001b[49m\u001b[43m(\u001b[49m\u001b[43mdata\u001b[49m\u001b[43m,\u001b[49m\u001b[43m \u001b[49m\u001b[43mTensor\u001b[49m\u001b[43m,\u001b[49m\u001b[43m \u001b[49m\u001b[43mto_item\u001b[49m\u001b[43m)\u001b[49m\n",
      "File \u001b[1;32md:\\Projects\\MC959-Final-Project\\pytorch_env\\Lib\\site-packages\\lightning_utilities\\core\\apply_func.py:64\u001b[0m, in \u001b[0;36mapply_to_collection\u001b[1;34m(data, dtype, function, wrong_dtype, include_none, allow_frozen, *args, **kwargs)\u001b[0m\n\u001b[0;32m     63\u001b[0m \u001b[38;5;28;01mif\u001b[39;00m \u001b[38;5;28misinstance\u001b[39m(data, dtype):  \u001b[38;5;66;03m# single element\u001b[39;00m\n\u001b[1;32m---> 64\u001b[0m     \u001b[38;5;28;01mreturn\u001b[39;00m \u001b[43mfunction\u001b[49m\u001b[43m(\u001b[49m\u001b[43mdata\u001b[49m\u001b[43m,\u001b[49m\u001b[43m \u001b[49m\u001b[38;5;241;43m*\u001b[39;49m\u001b[43margs\u001b[49m\u001b[43m,\u001b[49m\u001b[43m \u001b[49m\u001b[38;5;241;43m*\u001b[39;49m\u001b[38;5;241;43m*\u001b[39;49m\u001b[43mkwargs\u001b[49m\u001b[43m)\u001b[49m\n\u001b[0;32m     65\u001b[0m \u001b[38;5;28;01mif\u001b[39;00m data\u001b[38;5;241m.\u001b[39m\u001b[38;5;18m__class__\u001b[39m \u001b[38;5;129;01mis\u001b[39;00m \u001b[38;5;28mlist\u001b[39m \u001b[38;5;129;01mand\u001b[39;00m \u001b[38;5;28mall\u001b[39m(\u001b[38;5;28misinstance\u001b[39m(x, dtype) \u001b[38;5;28;01mfor\u001b[39;00m x \u001b[38;5;129;01min\u001b[39;00m data):  \u001b[38;5;66;03m# 1d homogeneous list\u001b[39;00m\n",
      "File \u001b[1;32md:\\Projects\\MC959-Final-Project\\pytorch_env\\Lib\\site-packages\\lightning_fabric\\utilities\\apply_func.py:134\u001b[0m, in \u001b[0;36mconvert_tensors_to_scalars.<locals>.to_item\u001b[1;34m(value)\u001b[0m\n\u001b[0;32m    131\u001b[0m     \u001b[38;5;28;01mraise\u001b[39;00m \u001b[38;5;167;01mValueError\u001b[39;00m(\n\u001b[0;32m    132\u001b[0m         \u001b[38;5;124mf\u001b[39m\u001b[38;5;124m\"\u001b[39m\u001b[38;5;124mThe metric `\u001b[39m\u001b[38;5;132;01m{\u001b[39;00mvalue\u001b[38;5;132;01m}\u001b[39;00m\u001b[38;5;124m` does not contain a single element, thus it cannot be converted to a scalar.\u001b[39m\u001b[38;5;124m\"\u001b[39m\n\u001b[0;32m    133\u001b[0m     )\n\u001b[1;32m--> 134\u001b[0m \u001b[38;5;28;01mreturn\u001b[39;00m \u001b[43mvalue\u001b[49m\u001b[38;5;241;43m.\u001b[39;49m\u001b[43mitem\u001b[49m\u001b[43m(\u001b[49m\u001b[43m)\u001b[49m\n",
      "\u001b[1;31mKeyboardInterrupt\u001b[0m: ",
      "\nDuring handling of the above exception, another exception occurred:\n",
      "\u001b[1;31mNameError\u001b[0m                                 Traceback (most recent call last)",
      "Cell \u001b[1;32mIn[13], line 60\u001b[0m\n\u001b[0;32m     46\u001b[0m train_dataloader \u001b[38;5;241m=\u001b[39m torch\u001b[38;5;241m.\u001b[39mutils\u001b[38;5;241m.\u001b[39mdata\u001b[38;5;241m.\u001b[39mDataLoader(\n\u001b[0;32m     47\u001b[0m     train_dataset,\n\u001b[0;32m     48\u001b[0m     batch_size\u001b[38;5;241m=\u001b[39m\u001b[38;5;241m100\u001b[39m,\n\u001b[0;32m     49\u001b[0m     shuffle\u001b[38;5;241m=\u001b[39m\u001b[38;5;28;01mTrue\u001b[39;00m,\n\u001b[0;32m     50\u001b[0m     num_workers\u001b[38;5;241m=\u001b[39mNUM_WORKERS,\n\u001b[0;32m     51\u001b[0m )\n\u001b[0;32m     53\u001b[0m valid_dataloader \u001b[38;5;241m=\u001b[39m torch\u001b[38;5;241m.\u001b[39mutils\u001b[38;5;241m.\u001b[39mdata\u001b[38;5;241m.\u001b[39mDataLoader(\n\u001b[0;32m     54\u001b[0m     valid_dataset,\n\u001b[0;32m     55\u001b[0m     batch_size\u001b[38;5;241m=\u001b[39m\u001b[38;5;241m100\u001b[39m,\n\u001b[0;32m     56\u001b[0m     shuffle\u001b[38;5;241m=\u001b[39m\u001b[38;5;28;01mFalse\u001b[39;00m,\n\u001b[0;32m     57\u001b[0m     num_workers\u001b[38;5;241m=\u001b[39mNUM_WORKERS,\n\u001b[0;32m     58\u001b[0m )\n\u001b[1;32m---> 60\u001b[0m \u001b[43mtrainer\u001b[49m\u001b[38;5;241;43m.\u001b[39;49m\u001b[43mfit\u001b[49m\u001b[43m(\u001b[49m\n\u001b[0;32m     61\u001b[0m \u001b[43m    \u001b[49m\u001b[43mmodel\u001b[49m\u001b[38;5;241;43m=\u001b[39;49m\u001b[43mclassificator_with_swav_model\u001b[49m\u001b[43m,\u001b[49m\n\u001b[0;32m     62\u001b[0m \u001b[43m    \u001b[49m\u001b[43mtrain_dataloaders\u001b[49m\u001b[38;5;241;43m=\u001b[39;49m\u001b[43mtrain_dataloader\u001b[49m\u001b[43m,\u001b[49m\n\u001b[0;32m     63\u001b[0m \u001b[43m    \u001b[49m\u001b[43mval_dataloaders\u001b[49m\u001b[38;5;241;43m=\u001b[39;49m\u001b[43mvalid_dataloader\u001b[49m\u001b[43m,\u001b[49m\n\u001b[0;32m     64\u001b[0m \u001b[43m    \u001b[49m\u001b[38;5;66;43;03m# ckpt_path=\"finetuning/tensorboard_logs/swav_finetuning/version_30/checkpoints/last.ckpt\"\u001b[39;49;00m\n\u001b[0;32m     65\u001b[0m \u001b[43m\u001b[49m\u001b[43m)\u001b[49m\n\u001b[0;32m     67\u001b[0m \u001b[38;5;66;03m# See the training results with `tensorboard --logdir=./classificator_with_swav/tensorboard_logs/`\u001b[39;00m\n",
      "File \u001b[1;32md:\\Projects\\MC959-Final-Project\\pytorch_env\\Lib\\site-packages\\pytorch_lightning\\trainer\\trainer.py:538\u001b[0m, in \u001b[0;36mTrainer.fit\u001b[1;34m(self, model, train_dataloaders, val_dataloaders, datamodule, ckpt_path)\u001b[0m\n\u001b[0;32m    536\u001b[0m \u001b[38;5;28mself\u001b[39m\u001b[38;5;241m.\u001b[39mstate\u001b[38;5;241m.\u001b[39mstatus \u001b[38;5;241m=\u001b[39m TrainerStatus\u001b[38;5;241m.\u001b[39mRUNNING\n\u001b[0;32m    537\u001b[0m \u001b[38;5;28mself\u001b[39m\u001b[38;5;241m.\u001b[39mtraining \u001b[38;5;241m=\u001b[39m \u001b[38;5;28;01mTrue\u001b[39;00m\n\u001b[1;32m--> 538\u001b[0m \u001b[43mcall\u001b[49m\u001b[38;5;241;43m.\u001b[39;49m\u001b[43m_call_and_handle_interrupt\u001b[49m\u001b[43m(\u001b[49m\n\u001b[0;32m    539\u001b[0m \u001b[43m    \u001b[49m\u001b[38;5;28;43mself\u001b[39;49m\u001b[43m,\u001b[49m\u001b[43m \u001b[49m\u001b[38;5;28;43mself\u001b[39;49m\u001b[38;5;241;43m.\u001b[39;49m\u001b[43m_fit_impl\u001b[49m\u001b[43m,\u001b[49m\u001b[43m \u001b[49m\u001b[43mmodel\u001b[49m\u001b[43m,\u001b[49m\u001b[43m \u001b[49m\u001b[43mtrain_dataloaders\u001b[49m\u001b[43m,\u001b[49m\u001b[43m \u001b[49m\u001b[43mval_dataloaders\u001b[49m\u001b[43m,\u001b[49m\u001b[43m \u001b[49m\u001b[43mdatamodule\u001b[49m\u001b[43m,\u001b[49m\u001b[43m \u001b[49m\u001b[43mckpt_path\u001b[49m\n\u001b[0;32m    540\u001b[0m \u001b[43m\u001b[49m\u001b[43m)\u001b[49m\n",
      "File \u001b[1;32md:\\Projects\\MC959-Final-Project\\pytorch_env\\Lib\\site-packages\\pytorch_lightning\\trainer\\call.py:64\u001b[0m, in \u001b[0;36m_call_and_handle_interrupt\u001b[1;34m(trainer, trainer_fn, *args, **kwargs)\u001b[0m\n\u001b[0;32m     62\u001b[0m     \u001b[38;5;28;01mif\u001b[39;00m \u001b[38;5;28misinstance\u001b[39m(launcher, _SubprocessScriptLauncher):\n\u001b[0;32m     63\u001b[0m         launcher\u001b[38;5;241m.\u001b[39mkill(_get_sigkill_signal())\n\u001b[1;32m---> 64\u001b[0m     \u001b[43mexit\u001b[49m(\u001b[38;5;241m1\u001b[39m)\n\u001b[0;32m     66\u001b[0m \u001b[38;5;28;01mexcept\u001b[39;00m \u001b[38;5;167;01mBaseException\u001b[39;00m \u001b[38;5;28;01mas\u001b[39;00m exception:\n\u001b[0;32m     67\u001b[0m     _interrupt(trainer, exception)\n",
      "\u001b[1;31mNameError\u001b[0m: name 'exit' is not defined"
     ]
    }
   ],
   "source": [
    "if not torch.cuda.is_available():\n",
    "  print(\"GPU not available!\")\n",
    "\n",
    "accelerator = \"gpu\" if torch.cuda.is_available() else \"cpu\"\n",
    "\n",
    "torch.set_float32_matmul_precision('medium')\n",
    "\n",
    "from pytorch_lightning.loggers import TensorBoardLogger\n",
    "from pytorch_lightning.callbacks.early_stopping import EarlyStopping\n",
    "from pytorch_lightning.callbacks import ModelCheckpoint\n",
    "\n",
    "\n",
    "checkpoint_path = 'classificator_with_swav/tensorboard_logs/classificator_with_swav/version_13/checkpoints/last.ckptd'\n",
    "\n",
    "# Skip training if the checkpoint file already exists\n",
    "if os.path.exists(checkpoint_path):\n",
    "  print(\"Skipping training, loading model from checkpoint\")\n",
    "else:\n",
    "    print(\"Training the model...\")\n",
    "    logger = TensorBoardLogger('classificator_with_swav/tensorboard_logs', name='classificator_with_swav')\n",
    "\n",
    "    # On my local env, when num_workers > 0 the execution hangs\n",
    "    NUM_WORKERS = 0\n",
    "\n",
    "    trainer = pl.Trainer(\n",
    "        logger=logger,\n",
    "        max_epochs=20,\n",
    "        devices=1,\n",
    "        accelerator=accelerator,\n",
    "        default_root_dir='./classificator_with_swav',\n",
    "        callbacks=[\n",
    "            ModelCheckpoint(\n",
    "                # Save all checkpoints\n",
    "                save_top_k=99999,\n",
    "                save_last=True,\n",
    "                monitor=\"train_loss\",\n",
    "                mode=\"min\",\n",
    "                # Save checkpoints every half epoch\n",
    "                every_n_train_steps=(len(train_dataset) // 36) // 2,\n",
    "                filename=\"{epoch:02d}-{step:02d}-{train_loss}\",\n",
    "            ),\n",
    "            EarlyStopping(monitor=\"val_loss\", mode=\"min\", patience=10),\n",
    "        ]\n",
    "    )\n",
    "\n",
    "    train_dataloader = torch.utils.data.DataLoader(\n",
    "        train_dataset,\n",
    "        batch_size=100,\n",
    "        shuffle=True,\n",
    "        num_workers=NUM_WORKERS,\n",
    "    )\n",
    "\n",
    "    valid_dataloader = torch.utils.data.DataLoader(\n",
    "        valid_dataset,\n",
    "        batch_size=100,\n",
    "        shuffle=False,\n",
    "        num_workers=NUM_WORKERS,\n",
    "    )\n",
    "\n",
    "    trainer.fit(\n",
    "        model=classificator_with_swav_model,\n",
    "        train_dataloaders=train_dataloader,\n",
    "        val_dataloaders=valid_dataloader,\n",
    "        # ckpt_path=\"finetuning/tensorboard_logs/swav_finetuning/version_30/checkpoints/last.ckpt\"\n",
    "    )\n",
    "    \n",
    "    # See the training results with `tensorboard --logdir=./classificator_with_swav/tensorboard_logs/`"
   ]
  },
  {
   "cell_type": "markdown",
   "id": "a19a6ac2",
   "metadata": {},
   "source": [
    "## Training charts\n",
    "\n",
    "![classificator_with_swav_train_loss.png](./notebook_images/classificator_with_swav_train_loss.png)\n",
    "\n",
    "![classificator_with_swav_train_accuracy.png](./notebook_images/classificator_with_swav_train_accuracy.png)\n",
    "\n",
    "![classificator_with_swav_val_loss.png](./notebook_images/classificator_with_swav_val_loss.png)\n",
    "\n",
    "![classificator_with_swav_val_accuracy.png](./notebook_images/classificator_with_swav_val_accuracy.png)\n",
    "\n",
    "![classificator_with_swav_val_confusion_matrix_at_end.png](./notebook_images/classificator_with_swav_val_confusion_matrix_at_end.png)"
   ]
  },
  {
   "cell_type": "code",
   "execution_count": 14,
   "id": "548bf745",
   "metadata": {},
   "outputs": [
    {
     "name": "stderr",
     "output_type": "stream",
     "text": [
      "LOCAL_RANK: 0 - CUDA_VISIBLE_DEVICES: [0]\n",
      "d:\\Projects\\MC959-Final-Project\\pytorch_env\\Lib\\site-packages\\pytorch_lightning\\trainer\\connectors\\data_connector.py:424: The 'val_dataloader' does not have many workers which may be a bottleneck. Consider increasing the value of the `num_workers` argument` to `num_workers=15` in the `DataLoader` to improve performance.\n"
     ]
    },
    {
     "name": "stdout",
     "output_type": "stream",
     "text": [
      "Validation DataLoader 0: 100%|██████████| 159/159 [00:23<00:00,  6.84it/s]\n",
      "────────────────────────────────────────────────────────────────────────────────────────────────────────────────────────\n",
      "     Validate metric           DataLoader 0\n",
      "────────────────────────────────────────────────────────────────────────────────────────────────────────────────────────\n",
      "      val_accuracy          0.9964717626571655\n",
      "        val_loss           0.012096096761524677\n",
      "────────────────────────────────────────────────────────────────────────────────────────────────────────────────────────\n"
     ]
    },
    {
     "data": {
      "text/plain": [
       "[{'val_loss': 0.012096096761524677, 'val_accuracy': 0.9964717626571655}]"
      ]
     },
     "execution_count": 14,
     "metadata": {},
     "output_type": "execute_result"
    }
   ],
   "source": [
    "trainer.validate(classificator_with_swav_model, valid_dataloader)"
   ]
  },
  {
   "cell_type": "code",
   "execution_count": 16,
   "id": "91f38d81",
   "metadata": {},
   "outputs": [
    {
     "name": "stderr",
     "output_type": "stream",
     "text": [
      "LOCAL_RANK: 0 - CUDA_VISIBLE_DEVICES: [0]\n",
      "d:\\Projects\\MC959-Final-Project\\pytorch_env\\Lib\\site-packages\\pytorch_lightning\\trainer\\connectors\\data_connector.py:424: The 'val_dataloader' does not have many workers which may be a bottleneck. Consider increasing the value of the `num_workers` argument` to `num_workers=15` in the `DataLoader` to improve performance.\n"
     ]
    },
    {
     "name": "stdout",
     "output_type": "stream",
     "text": [
      "Validation DataLoader 0: 100%|██████████| 159/159 [00:22<00:00,  6.93it/s]\n",
      "────────────────────────────────────────────────────────────────────────────────────────────────────────────────────────\n",
      "     Validate metric           DataLoader 0\n",
      "────────────────────────────────────────────────────────────────────────────────────────────────────────────────────────\n",
      "      val_accuracy          0.9964717626571655\n",
      "        val_loss           0.012446743436157703\n",
      "────────────────────────────────────────────────────────────────────────────────────────────────────────────────────────\n"
     ]
    },
    {
     "data": {
      "text/plain": [
       "[{'val_loss': 0.012446743436157703, 'val_accuracy': 0.9964717626571655}]"
      ]
     },
     "execution_count": 16,
     "metadata": {},
     "output_type": "execute_result"
    }
   ],
   "source": [
    "# Define the path to the checkpoint file\n",
    "checkpoint_path = 'classificator_with_swav/tensorboard_logs/classificator_with_swav/version_5/checkpoints/last.ckpt'\n",
    "\n",
    "# Load the model from the checkpoint\n",
    "loaded_classificator_with_swav_model = ClassificatorWithSwaV.load_from_checkpoint(checkpoint_path, swav_model=loaded_swav_model)\n",
    "\n",
    "# Set the model to evaluation mode\n",
    "loaded_classificator_with_swav_model.eval()\n",
    "\n",
    "# Test the loaded model with a sample image\n",
    "trainer.validate(loaded_classificator_with_swav_model, valid_dataloader)"
   ]
  },
  {
   "cell_type": "markdown",
   "id": "fcb6d9e8",
   "metadata": {},
   "source": [
    "## Test accuracy"
   ]
  },
  {
   "cell_type": "code",
   "execution_count": 18,
   "id": "e73a4fd5",
   "metadata": {},
   "outputs": [
    {
     "name": "stderr",
     "output_type": "stream",
     "text": [
      "LOCAL_RANK: 0 - CUDA_VISIBLE_DEVICES: [0]\n",
      "d:\\Projects\\MC959-Final-Project\\pytorch_env\\Lib\\site-packages\\pytorch_lightning\\trainer\\connectors\\data_connector.py:424: The 'test_dataloader' does not have many workers which may be a bottleneck. Consider increasing the value of the `num_workers` argument` to `num_workers=15` in the `DataLoader` to improve performance.\n"
     ]
    },
    {
     "name": "stdout",
     "output_type": "stream",
     "text": [
      "Testing DataLoader 0: 100%|██████████| 159/159 [00:50<00:00,  3.13it/s]\n",
      "────────────────────────────────────────────────────────────────────────────────────────────────────────────────────────\n",
      "       Test metric             DataLoader 0\n",
      "────────────────────────────────────────────────────────────────────────────────────────────────────────────────────────\n",
      "      test_accuracy         0.9975429773330688\n",
      "        test_loss          0.008743575774133205\n",
      "────────────────────────────────────────────────────────────────────────────────────────────────────────────────────────\n"
     ]
    },
    {
     "data": {
      "text/plain": [
       "[{'test_loss': 0.008743575774133205, 'test_accuracy': 0.9975429773330688}]"
      ]
     },
     "execution_count": 18,
     "metadata": {},
     "output_type": "execute_result"
    }
   ],
   "source": [
    "test_dataloader = torch.utils.data.DataLoader(\n",
    "    test_dataset,\n",
    "    batch_size=100,\n",
    "    shuffle=False,\n",
    "    num_workers=NUM_WORKERS,\n",
    "  )\n",
    "\n",
    "trainer.test(loaded_classificator_with_swav_model, test_dataloader)"
   ]
  },
  {
   "cell_type": "markdown",
   "id": "7597a7fe",
   "metadata": {},
   "source": [
    "## Summary\n",
    "\n",
    "Our classificator using the fine tuned SWaV model managed to get 99.6% accuracy on the validation set and 99.7% accuracy on the test set. While it is slighly better than the 99.5% validation accuracy of the supervised model using a Resnet 18, both classifiers effectivelly have the same performance."
   ]
  },
  {
   "cell_type": "markdown",
   "id": "20df8c9c",
   "metadata": {},
   "source": [
    "# Conclusion\n",
    "\n",
    "Both models - the fully supervised model and the model using the finetuned SWaV backbone - achieved great performance on the test set (>99%) and have, effectively, the same performance.\n",
    "\n",
    "While the expected result would be for the model using SSRL to perform better, we believe this result can be explained by the fact that even after the 75%/17.5%/3.75%/3.75% split of our dataset between finetuning, training, validation and test dataset, respectively, our training dataset still had an amount of data large enough for the fully supervised method to perform well.\n",
    "\n",
    "The following table displays the split and dataset sizes:\n",
    "\n",
    "\n",
    "|        | finetuning | train | valid | test  |\n",
    "| ------ | ---------- | ----- | ----- | ----- |\n",
    "| split  | 75%        | 17.5% | 3.75% | 3.75% |\n",
    "| amount | 317442     | 74070 | 15872 | 15873 |\n",
    "\n",
    "\n",
    "74000 instances are still enough data to solve this problem with a fully supervised method.\n",
    "\n",
    "We expect the model with SSRL would outperform the fully supervised model if the labeled data for the supervised training was around 3000 instances."
   ]
  }
 ],
 "metadata": {
  "accelerator": "GPU",
  "colab": {
   "gpuType": "T4",
   "provenance": []
  },
  "jupytext": {
   "cell_metadata_filter": "-all",
   "main_language": "python",
   "notebook_metadata_filter": "-all"
  },
  "kernelspec": {
   "display_name": "Python 3 (ipykernel)",
   "language": "python",
   "name": "python3"
  },
  "language_info": {
   "codemirror_mode": {
    "name": "ipython",
    "version": 3
   },
   "file_extension": ".py",
   "mimetype": "text/x-python",
   "name": "python",
   "nbconvert_exporter": "python",
   "pygments_lexer": "ipython3",
   "version": "3.12.3"
  },
  "widgets": {
   "application/vnd.jupyter.widget-state+json": {
    "0568ce7cbd54443abab1d711d3f2b19d": {
     "model_module": "@jupyter-widgets/base",
     "model_module_version": "1.2.0",
     "model_name": "LayoutModel",
     "state": {
      "_model_module": "@jupyter-widgets/base",
      "_model_module_version": "1.2.0",
      "_model_name": "LayoutModel",
      "_view_count": null,
      "_view_module": "@jupyter-widgets/base",
      "_view_module_version": "1.2.0",
      "_view_name": "LayoutView",
      "align_content": null,
      "align_items": null,
      "align_self": null,
      "border": null,
      "bottom": null,
      "display": null,
      "flex": null,
      "flex_flow": null,
      "grid_area": null,
      "grid_auto_columns": null,
      "grid_auto_flow": null,
      "grid_auto_rows": null,
      "grid_column": null,
      "grid_gap": null,
      "grid_row": null,
      "grid_template_areas": null,
      "grid_template_columns": null,
      "grid_template_rows": null,
      "height": null,
      "justify_content": null,
      "justify_items": null,
      "left": null,
      "margin": null,
      "max_height": null,
      "max_width": null,
      "min_height": null,
      "min_width": null,
      "object_fit": null,
      "object_position": null,
      "order": null,
      "overflow": null,
      "overflow_x": null,
      "overflow_y": null,
      "padding": null,
      "right": null,
      "top": null,
      "visibility": null,
      "width": null
     }
    },
    "11d7e155594649bfa0d9ef5b82bcb4a1": {
     "model_module": "@jupyter-widgets/controls",
     "model_module_version": "1.5.0",
     "model_name": "ProgressStyleModel",
     "state": {
      "_model_module": "@jupyter-widgets/controls",
      "_model_module_version": "1.5.0",
      "_model_name": "ProgressStyleModel",
      "_view_count": null,
      "_view_module": "@jupyter-widgets/base",
      "_view_module_version": "1.2.0",
      "_view_name": "StyleView",
      "bar_color": null,
      "description_width": ""
     }
    },
    "122f2d40a0b34b009a10e7d45b3b5f3b": {
     "model_module": "@jupyter-widgets/base",
     "model_module_version": "1.2.0",
     "model_name": "LayoutModel",
     "state": {
      "_model_module": "@jupyter-widgets/base",
      "_model_module_version": "1.2.0",
      "_model_name": "LayoutModel",
      "_view_count": null,
      "_view_module": "@jupyter-widgets/base",
      "_view_module_version": "1.2.0",
      "_view_name": "LayoutView",
      "align_content": null,
      "align_items": null,
      "align_self": null,
      "border": null,
      "bottom": null,
      "display": null,
      "flex": null,
      "flex_flow": null,
      "grid_area": null,
      "grid_auto_columns": null,
      "grid_auto_flow": null,
      "grid_auto_rows": null,
      "grid_column": null,
      "grid_gap": null,
      "grid_row": null,
      "grid_template_areas": null,
      "grid_template_columns": null,
      "grid_template_rows": null,
      "height": null,
      "justify_content": null,
      "justify_items": null,
      "left": null,
      "margin": null,
      "max_height": null,
      "max_width": null,
      "min_height": null,
      "min_width": null,
      "object_fit": null,
      "object_position": null,
      "order": null,
      "overflow": null,
      "overflow_x": null,
      "overflow_y": null,
      "padding": null,
      "right": null,
      "top": null,
      "visibility": null,
      "width": null
     }
    },
    "18d9e1270cb041a6b9bf058d82801572": {
     "model_module": "@jupyter-widgets/base",
     "model_module_version": "1.2.0",
     "model_name": "LayoutModel",
     "state": {
      "_model_module": "@jupyter-widgets/base",
      "_model_module_version": "1.2.0",
      "_model_name": "LayoutModel",
      "_view_count": null,
      "_view_module": "@jupyter-widgets/base",
      "_view_module_version": "1.2.0",
      "_view_name": "LayoutView",
      "align_content": null,
      "align_items": null,
      "align_self": null,
      "border": null,
      "bottom": null,
      "display": null,
      "flex": "2",
      "flex_flow": null,
      "grid_area": null,
      "grid_auto_columns": null,
      "grid_auto_flow": null,
      "grid_auto_rows": null,
      "grid_column": null,
      "grid_gap": null,
      "grid_row": null,
      "grid_template_areas": null,
      "grid_template_columns": null,
      "grid_template_rows": null,
      "height": null,
      "justify_content": null,
      "justify_items": null,
      "left": null,
      "margin": null,
      "max_height": null,
      "max_width": null,
      "min_height": null,
      "min_width": null,
      "object_fit": null,
      "object_position": null,
      "order": null,
      "overflow": null,
      "overflow_x": null,
      "overflow_y": null,
      "padding": null,
      "right": null,
      "top": null,
      "visibility": null,
      "width": null
     }
    },
    "21180d19bbe74b87b2b7f470cd5c40e6": {
     "model_module": "@jupyter-widgets/controls",
     "model_module_version": "1.5.0",
     "model_name": "DescriptionStyleModel",
     "state": {
      "_model_module": "@jupyter-widgets/controls",
      "_model_module_version": "1.5.0",
      "_model_name": "DescriptionStyleModel",
      "_view_count": null,
      "_view_module": "@jupyter-widgets/base",
      "_view_module_version": "1.2.0",
      "_view_name": "StyleView",
      "description_width": ""
     }
    },
    "261de6558e144840abe2e4d8bdf74321": {
     "model_module": "@jupyter-widgets/base",
     "model_module_version": "1.2.0",
     "model_name": "LayoutModel",
     "state": {
      "_model_module": "@jupyter-widgets/base",
      "_model_module_version": "1.2.0",
      "_model_name": "LayoutModel",
      "_view_count": null,
      "_view_module": "@jupyter-widgets/base",
      "_view_module_version": "1.2.0",
      "_view_name": "LayoutView",
      "align_content": null,
      "align_items": null,
      "align_self": null,
      "border": null,
      "bottom": null,
      "display": null,
      "flex": null,
      "flex_flow": null,
      "grid_area": null,
      "grid_auto_columns": null,
      "grid_auto_flow": null,
      "grid_auto_rows": null,
      "grid_column": null,
      "grid_gap": null,
      "grid_row": null,
      "grid_template_areas": null,
      "grid_template_columns": null,
      "grid_template_rows": null,
      "height": null,
      "justify_content": null,
      "justify_items": null,
      "left": null,
      "margin": null,
      "max_height": null,
      "max_width": null,
      "min_height": null,
      "min_width": null,
      "object_fit": null,
      "object_position": null,
      "order": null,
      "overflow": null,
      "overflow_x": null,
      "overflow_y": null,
      "padding": null,
      "right": null,
      "top": null,
      "visibility": null,
      "width": null
     }
    },
    "2d02c7bf23af429883367b3bb8a7b71d": {
     "model_module": "@jupyter-widgets/controls",
     "model_module_version": "1.5.0",
     "model_name": "DescriptionStyleModel",
     "state": {
      "_model_module": "@jupyter-widgets/controls",
      "_model_module_version": "1.5.0",
      "_model_name": "DescriptionStyleModel",
      "_view_count": null,
      "_view_module": "@jupyter-widgets/base",
      "_view_module_version": "1.2.0",
      "_view_name": "StyleView",
      "description_width": ""
     }
    },
    "2dc129e1f39d4b5b98974e0350b64b95": {
     "model_module": "@jupyter-widgets/base",
     "model_module_version": "1.2.0",
     "model_name": "LayoutModel",
     "state": {
      "_model_module": "@jupyter-widgets/base",
      "_model_module_version": "1.2.0",
      "_model_name": "LayoutModel",
      "_view_count": null,
      "_view_module": "@jupyter-widgets/base",
      "_view_module_version": "1.2.0",
      "_view_name": "LayoutView",
      "align_content": null,
      "align_items": null,
      "align_self": null,
      "border": null,
      "bottom": null,
      "display": null,
      "flex": null,
      "flex_flow": null,
      "grid_area": null,
      "grid_auto_columns": null,
      "grid_auto_flow": null,
      "grid_auto_rows": null,
      "grid_column": null,
      "grid_gap": null,
      "grid_row": null,
      "grid_template_areas": null,
      "grid_template_columns": null,
      "grid_template_rows": null,
      "height": null,
      "justify_content": null,
      "justify_items": null,
      "left": null,
      "margin": null,
      "max_height": null,
      "max_width": null,
      "min_height": null,
      "min_width": null,
      "object_fit": null,
      "object_position": null,
      "order": null,
      "overflow": null,
      "overflow_x": null,
      "overflow_y": null,
      "padding": null,
      "right": null,
      "top": null,
      "visibility": null,
      "width": null
     }
    },
    "34aafc1867b6443586ca200601508d1b": {
     "model_module": "@jupyter-widgets/base",
     "model_module_version": "1.2.0",
     "model_name": "LayoutModel",
     "state": {
      "_model_module": "@jupyter-widgets/base",
      "_model_module_version": "1.2.0",
      "_model_name": "LayoutModel",
      "_view_count": null,
      "_view_module": "@jupyter-widgets/base",
      "_view_module_version": "1.2.0",
      "_view_name": "LayoutView",
      "align_content": null,
      "align_items": null,
      "align_self": null,
      "border": null,
      "bottom": null,
      "display": null,
      "flex": null,
      "flex_flow": null,
      "grid_area": null,
      "grid_auto_columns": null,
      "grid_auto_flow": null,
      "grid_auto_rows": null,
      "grid_column": null,
      "grid_gap": null,
      "grid_row": null,
      "grid_template_areas": null,
      "grid_template_columns": null,
      "grid_template_rows": null,
      "height": null,
      "justify_content": null,
      "justify_items": null,
      "left": null,
      "margin": null,
      "max_height": null,
      "max_width": null,
      "min_height": null,
      "min_width": null,
      "object_fit": null,
      "object_position": null,
      "order": null,
      "overflow": null,
      "overflow_x": null,
      "overflow_y": null,
      "padding": null,
      "right": null,
      "top": null,
      "visibility": null,
      "width": null
     }
    },
    "3e456e8ae74a480096ecae7116ce13e0": {
     "model_module": "@jupyter-widgets/controls",
     "model_module_version": "1.5.0",
     "model_name": "ProgressStyleModel",
     "state": {
      "_model_module": "@jupyter-widgets/controls",
      "_model_module_version": "1.5.0",
      "_model_name": "ProgressStyleModel",
      "_view_count": null,
      "_view_module": "@jupyter-widgets/base",
      "_view_module_version": "1.2.0",
      "_view_name": "StyleView",
      "bar_color": null,
      "description_width": ""
     }
    },
    "3ec102a634524d85829c73146937a06d": {
     "model_module": "@jupyter-widgets/base",
     "model_module_version": "1.2.0",
     "model_name": "LayoutModel",
     "state": {
      "_model_module": "@jupyter-widgets/base",
      "_model_module_version": "1.2.0",
      "_model_name": "LayoutModel",
      "_view_count": null,
      "_view_module": "@jupyter-widgets/base",
      "_view_module_version": "1.2.0",
      "_view_name": "LayoutView",
      "align_content": null,
      "align_items": null,
      "align_self": null,
      "border": null,
      "bottom": null,
      "display": null,
      "flex": null,
      "flex_flow": null,
      "grid_area": null,
      "grid_auto_columns": null,
      "grid_auto_flow": null,
      "grid_auto_rows": null,
      "grid_column": null,
      "grid_gap": null,
      "grid_row": null,
      "grid_template_areas": null,
      "grid_template_columns": null,
      "grid_template_rows": null,
      "height": null,
      "justify_content": null,
      "justify_items": null,
      "left": null,
      "margin": null,
      "max_height": null,
      "max_width": null,
      "min_height": null,
      "min_width": null,
      "object_fit": null,
      "object_position": null,
      "order": null,
      "overflow": null,
      "overflow_x": null,
      "overflow_y": null,
      "padding": null,
      "right": null,
      "top": null,
      "visibility": null,
      "width": null
     }
    },
    "3ef163e5cd054660a0689f33659ab5f4": {
     "model_module": "@jupyter-widgets/controls",
     "model_module_version": "1.5.0",
     "model_name": "HBoxModel",
     "state": {
      "_dom_classes": [],
      "_model_module": "@jupyter-widgets/controls",
      "_model_module_version": "1.5.0",
      "_model_name": "HBoxModel",
      "_view_count": null,
      "_view_module": "@jupyter-widgets/controls",
      "_view_module_version": "1.5.0",
      "_view_name": "HBoxView",
      "box_style": "",
      "children": [
       "IPY_MODEL_f431cb0fcde44064a42a24f640e5fd95",
       "IPY_MODEL_7c6c3cf4ccee4170929143a347dc1af2",
       "IPY_MODEL_674d73e6a7234d8ab7aa23eafdb460a8"
      ],
      "layout": "IPY_MODEL_4ec87e0ad82549de9a5003ef35006439"
     }
    },
    "4026c727e88449f39c7b81003108bfd8": {
     "model_module": "@jupyter-widgets/base",
     "model_module_version": "1.2.0",
     "model_name": "LayoutModel",
     "state": {
      "_model_module": "@jupyter-widgets/base",
      "_model_module_version": "1.2.0",
      "_model_name": "LayoutModel",
      "_view_count": null,
      "_view_module": "@jupyter-widgets/base",
      "_view_module_version": "1.2.0",
      "_view_name": "LayoutView",
      "align_content": null,
      "align_items": null,
      "align_self": null,
      "border": null,
      "bottom": null,
      "display": null,
      "flex": "2",
      "flex_flow": null,
      "grid_area": null,
      "grid_auto_columns": null,
      "grid_auto_flow": null,
      "grid_auto_rows": null,
      "grid_column": null,
      "grid_gap": null,
      "grid_row": null,
      "grid_template_areas": null,
      "grid_template_columns": null,
      "grid_template_rows": null,
      "height": null,
      "justify_content": null,
      "justify_items": null,
      "left": null,
      "margin": null,
      "max_height": null,
      "max_width": null,
      "min_height": null,
      "min_width": null,
      "object_fit": null,
      "object_position": null,
      "order": null,
      "overflow": null,
      "overflow_x": null,
      "overflow_y": null,
      "padding": null,
      "right": null,
      "top": null,
      "visibility": null,
      "width": null
     }
    },
    "40e40b18116042d38cc2f8e451dffebf": {
     "model_module": "@jupyter-widgets/base",
     "model_module_version": "1.2.0",
     "model_name": "LayoutModel",
     "state": {
      "_model_module": "@jupyter-widgets/base",
      "_model_module_version": "1.2.0",
      "_model_name": "LayoutModel",
      "_view_count": null,
      "_view_module": "@jupyter-widgets/base",
      "_view_module_version": "1.2.0",
      "_view_name": "LayoutView",
      "align_content": null,
      "align_items": null,
      "align_self": null,
      "border": null,
      "bottom": null,
      "display": null,
      "flex": "2",
      "flex_flow": null,
      "grid_area": null,
      "grid_auto_columns": null,
      "grid_auto_flow": null,
      "grid_auto_rows": null,
      "grid_column": null,
      "grid_gap": null,
      "grid_row": null,
      "grid_template_areas": null,
      "grid_template_columns": null,
      "grid_template_rows": null,
      "height": null,
      "justify_content": null,
      "justify_items": null,
      "left": null,
      "margin": null,
      "max_height": null,
      "max_width": null,
      "min_height": null,
      "min_width": null,
      "object_fit": null,
      "object_position": null,
      "order": null,
      "overflow": null,
      "overflow_x": null,
      "overflow_y": null,
      "padding": null,
      "right": null,
      "top": null,
      "visibility": null,
      "width": null
     }
    },
    "4e637b9a09f74b08958af3f57e6964c8": {
     "model_module": "@jupyter-widgets/controls",
     "model_module_version": "1.5.0",
     "model_name": "HTMLModel",
     "state": {
      "_dom_classes": [],
      "_model_module": "@jupyter-widgets/controls",
      "_model_module_version": "1.5.0",
      "_model_name": "HTMLModel",
      "_view_count": null,
      "_view_module": "@jupyter-widgets/controls",
      "_view_module_version": "1.5.0",
      "_view_name": "HTMLView",
      "description": "",
      "description_tooltip": null,
      "layout": "IPY_MODEL_85ae0c9440e24458b358b8c26fd1de8f",
      "placeholder": "​",
      "style": "IPY_MODEL_21180d19bbe74b87b2b7f470cd5c40e6",
      "value": "Sanity Checking DataLoader 0: 100%"
     }
    },
    "4ec87e0ad82549de9a5003ef35006439": {
     "model_module": "@jupyter-widgets/base",
     "model_module_version": "1.2.0",
     "model_name": "LayoutModel",
     "state": {
      "_model_module": "@jupyter-widgets/base",
      "_model_module_version": "1.2.0",
      "_model_name": "LayoutModel",
      "_view_count": null,
      "_view_module": "@jupyter-widgets/base",
      "_view_module_version": "1.2.0",
      "_view_name": "LayoutView",
      "align_content": null,
      "align_items": null,
      "align_self": null,
      "border": null,
      "bottom": null,
      "display": "inline-flex",
      "flex": null,
      "flex_flow": "row wrap",
      "grid_area": null,
      "grid_auto_columns": null,
      "grid_auto_flow": null,
      "grid_auto_rows": null,
      "grid_column": null,
      "grid_gap": null,
      "grid_row": null,
      "grid_template_areas": null,
      "grid_template_columns": null,
      "grid_template_rows": null,
      "height": null,
      "justify_content": null,
      "justify_items": null,
      "left": null,
      "margin": null,
      "max_height": null,
      "max_width": null,
      "min_height": null,
      "min_width": null,
      "object_fit": null,
      "object_position": null,
      "order": null,
      "overflow": null,
      "overflow_x": null,
      "overflow_y": null,
      "padding": null,
      "right": null,
      "top": null,
      "visibility": null,
      "width": "100%"
     }
    },
    "5442b65ddefd44b2887b67a5692bb062": {
     "model_module": "@jupyter-widgets/base",
     "model_module_version": "1.2.0",
     "model_name": "LayoutModel",
     "state": {
      "_model_module": "@jupyter-widgets/base",
      "_model_module_version": "1.2.0",
      "_model_name": "LayoutModel",
      "_view_count": null,
      "_view_module": "@jupyter-widgets/base",
      "_view_module_version": "1.2.0",
      "_view_name": "LayoutView",
      "align_content": null,
      "align_items": null,
      "align_self": null,
      "border": null,
      "bottom": null,
      "display": "inline-flex",
      "flex": null,
      "flex_flow": "row wrap",
      "grid_area": null,
      "grid_auto_columns": null,
      "grid_auto_flow": null,
      "grid_auto_rows": null,
      "grid_column": null,
      "grid_gap": null,
      "grid_row": null,
      "grid_template_areas": null,
      "grid_template_columns": null,
      "grid_template_rows": null,
      "height": null,
      "justify_content": null,
      "justify_items": null,
      "left": null,
      "margin": null,
      "max_height": null,
      "max_width": null,
      "min_height": null,
      "min_width": null,
      "object_fit": null,
      "object_position": null,
      "order": null,
      "overflow": null,
      "overflow_x": null,
      "overflow_y": null,
      "padding": null,
      "right": null,
      "top": null,
      "visibility": null,
      "width": "100%"
     }
    },
    "608b20fcf22a403cb5fab8f5803222fc": {
     "model_module": "@jupyter-widgets/controls",
     "model_module_version": "1.5.0",
     "model_name": "DescriptionStyleModel",
     "state": {
      "_model_module": "@jupyter-widgets/controls",
      "_model_module_version": "1.5.0",
      "_model_name": "DescriptionStyleModel",
      "_view_count": null,
      "_view_module": "@jupyter-widgets/base",
      "_view_module_version": "1.2.0",
      "_view_name": "StyleView",
      "description_width": ""
     }
    },
    "62dae54d3dab4bb4b6a7d361569be12d": {
     "model_module": "@jupyter-widgets/controls",
     "model_module_version": "1.5.0",
     "model_name": "HTMLModel",
     "state": {
      "_dom_classes": [],
      "_model_module": "@jupyter-widgets/controls",
      "_model_module_version": "1.5.0",
      "_model_name": "HTMLModel",
      "_view_count": null,
      "_view_module": "@jupyter-widgets/controls",
      "_view_module_version": "1.5.0",
      "_view_name": "HTMLView",
      "description": "",
      "description_tooltip": null,
      "layout": "IPY_MODEL_122f2d40a0b34b009a10e7d45b3b5f3b",
      "placeholder": "​",
      "style": "IPY_MODEL_e2d107193b4946c9a6fc867df432f02e",
      "value": " 2/2 [00:25&lt;00:00,  0.08it/s]"
     }
    },
    "674d73e6a7234d8ab7aa23eafdb460a8": {
     "model_module": "@jupyter-widgets/controls",
     "model_module_version": "1.5.0",
     "model_name": "HTMLModel",
     "state": {
      "_dom_classes": [],
      "_model_module": "@jupyter-widgets/controls",
      "_model_module_version": "1.5.0",
      "_model_name": "HTMLModel",
      "_view_count": null,
      "_view_module": "@jupyter-widgets/controls",
      "_view_module_version": "1.5.0",
      "_view_name": "HTMLView",
      "description": "",
      "description_tooltip": null,
      "layout": "IPY_MODEL_34aafc1867b6443586ca200601508d1b",
      "placeholder": "​",
      "style": "IPY_MODEL_c7e6dd22aeef4235a48c79a121927eae",
      "value": " 390/390 [04:30&lt;00:00,  1.44it/s, v_num=2]"
     }
    },
    "6eb767ebdd8842788c0b2be03862e9c8": {
     "model_module": "@jupyter-widgets/controls",
     "model_module_version": "1.5.0",
     "model_name": "ProgressStyleModel",
     "state": {
      "_model_module": "@jupyter-widgets/controls",
      "_model_module_version": "1.5.0",
      "_model_name": "ProgressStyleModel",
      "_view_count": null,
      "_view_module": "@jupyter-widgets/base",
      "_view_module_version": "1.2.0",
      "_view_name": "StyleView",
      "bar_color": null,
      "description_width": ""
     }
    },
    "7392e1fd0c7d4b22bc1a94b1aba0c273": {
     "model_module": "@jupyter-widgets/controls",
     "model_module_version": "1.5.0",
     "model_name": "HBoxModel",
     "state": {
      "_dom_classes": [],
      "_model_module": "@jupyter-widgets/controls",
      "_model_module_version": "1.5.0",
      "_model_name": "HBoxModel",
      "_view_count": null,
      "_view_module": "@jupyter-widgets/controls",
      "_view_module_version": "1.5.0",
      "_view_name": "HBoxView",
      "box_style": "",
      "children": [
       "IPY_MODEL_4e637b9a09f74b08958af3f57e6964c8",
       "IPY_MODEL_bc81e1410e2142ce8b21a4cc9c58c12b",
       "IPY_MODEL_62dae54d3dab4bb4b6a7d361569be12d"
      ],
      "layout": "IPY_MODEL_7b05286d2ffe4461aa6e87739ee9a55d"
     }
    },
    "7b05286d2ffe4461aa6e87739ee9a55d": {
     "model_module": "@jupyter-widgets/base",
     "model_module_version": "1.2.0",
     "model_name": "LayoutModel",
     "state": {
      "_model_module": "@jupyter-widgets/base",
      "_model_module_version": "1.2.0",
      "_model_name": "LayoutModel",
      "_view_count": null,
      "_view_module": "@jupyter-widgets/base",
      "_view_module_version": "1.2.0",
      "_view_name": "LayoutView",
      "align_content": null,
      "align_items": null,
      "align_self": null,
      "border": null,
      "bottom": null,
      "display": "inline-flex",
      "flex": null,
      "flex_flow": "row wrap",
      "grid_area": null,
      "grid_auto_columns": null,
      "grid_auto_flow": null,
      "grid_auto_rows": null,
      "grid_column": null,
      "grid_gap": null,
      "grid_row": null,
      "grid_template_areas": null,
      "grid_template_columns": null,
      "grid_template_rows": null,
      "height": null,
      "justify_content": null,
      "justify_items": null,
      "left": null,
      "margin": null,
      "max_height": null,
      "max_width": null,
      "min_height": null,
      "min_width": null,
      "object_fit": null,
      "object_position": null,
      "order": null,
      "overflow": null,
      "overflow_x": null,
      "overflow_y": null,
      "padding": null,
      "right": null,
      "top": null,
      "visibility": "hidden",
      "width": "100%"
     }
    },
    "7c6c3cf4ccee4170929143a347dc1af2": {
     "model_module": "@jupyter-widgets/controls",
     "model_module_version": "1.5.0",
     "model_name": "FloatProgressModel",
     "state": {
      "_dom_classes": [],
      "_model_module": "@jupyter-widgets/controls",
      "_model_module_version": "1.5.0",
      "_model_name": "FloatProgressModel",
      "_view_count": null,
      "_view_module": "@jupyter-widgets/controls",
      "_view_module_version": "1.5.0",
      "_view_name": "ProgressView",
      "bar_style": "success",
      "description": "",
      "description_tooltip": null,
      "layout": "IPY_MODEL_18d9e1270cb041a6b9bf058d82801572",
      "max": 390,
      "min": 0,
      "orientation": "horizontal",
      "style": "IPY_MODEL_ee111ed37dcd428da76574a3aeba2bfa",
      "value": 390
     }
    },
    "85ae0c9440e24458b358b8c26fd1de8f": {
     "model_module": "@jupyter-widgets/base",
     "model_module_version": "1.2.0",
     "model_name": "LayoutModel",
     "state": {
      "_model_module": "@jupyter-widgets/base",
      "_model_module_version": "1.2.0",
      "_model_name": "LayoutModel",
      "_view_count": null,
      "_view_module": "@jupyter-widgets/base",
      "_view_module_version": "1.2.0",
      "_view_name": "LayoutView",
      "align_content": null,
      "align_items": null,
      "align_self": null,
      "border": null,
      "bottom": null,
      "display": null,
      "flex": null,
      "flex_flow": null,
      "grid_area": null,
      "grid_auto_columns": null,
      "grid_auto_flow": null,
      "grid_auto_rows": null,
      "grid_column": null,
      "grid_gap": null,
      "grid_row": null,
      "grid_template_areas": null,
      "grid_template_columns": null,
      "grid_template_rows": null,
      "height": null,
      "justify_content": null,
      "justify_items": null,
      "left": null,
      "margin": null,
      "max_height": null,
      "max_width": null,
      "min_height": null,
      "min_width": null,
      "object_fit": null,
      "object_position": null,
      "order": null,
      "overflow": null,
      "overflow_x": null,
      "overflow_y": null,
      "padding": null,
      "right": null,
      "top": null,
      "visibility": null,
      "width": null
     }
    },
    "8e09f0b7fe154a13b95958f46d2d5b4d": {
     "model_module": "@jupyter-widgets/controls",
     "model_module_version": "1.5.0",
     "model_name": "HTMLModel",
     "state": {
      "_dom_classes": [],
      "_model_module": "@jupyter-widgets/controls",
      "_model_module_version": "1.5.0",
      "_model_name": "HTMLModel",
      "_view_count": null,
      "_view_module": "@jupyter-widgets/controls",
      "_view_module_version": "1.5.0",
      "_view_name": "HTMLView",
      "description": "",
      "description_tooltip": null,
      "layout": "IPY_MODEL_261de6558e144840abe2e4d8bdf74321",
      "placeholder": "​",
      "style": "IPY_MODEL_2d02c7bf23af429883367b3bb8a7b71d",
      "value": " 293/293 [2:19:24&lt;00:00,  0.04it/s, v_num=5]"
     }
    },
    "9d7e20e298554b43aae7dc1aa7a54622": {
     "model_module": "@jupyter-widgets/controls",
     "model_module_version": "1.5.0",
     "model_name": "HTMLModel",
     "state": {
      "_dom_classes": [],
      "_model_module": "@jupyter-widgets/controls",
      "_model_module_version": "1.5.0",
      "_model_name": "HTMLModel",
      "_view_count": null,
      "_view_module": "@jupyter-widgets/controls",
      "_view_module_version": "1.5.0",
      "_view_name": "HTMLView",
      "description": "",
      "description_tooltip": null,
      "layout": "IPY_MODEL_0568ce7cbd54443abab1d711d3f2b19d",
      "placeholder": "​",
      "style": "IPY_MODEL_ac18bbe0fb5a493a825f692a2f340c2b",
      "value": "Epoch 0: 100%"
     }
    },
    "a05cf988d8fb469e9518237c4990f513": {
     "model_module": "@jupyter-widgets/controls",
     "model_module_version": "1.5.0",
     "model_name": "DescriptionStyleModel",
     "state": {
      "_model_module": "@jupyter-widgets/controls",
      "_model_module_version": "1.5.0",
      "_model_name": "DescriptionStyleModel",
      "_view_count": null,
      "_view_module": "@jupyter-widgets/base",
      "_view_module_version": "1.2.0",
      "_view_name": "StyleView",
      "description_width": ""
     }
    },
    "a448acf29b9a4f83a269431de235f0ba": {
     "model_module": "@jupyter-widgets/base",
     "model_module_version": "1.2.0",
     "model_name": "LayoutModel",
     "state": {
      "_model_module": "@jupyter-widgets/base",
      "_model_module_version": "1.2.0",
      "_model_name": "LayoutModel",
      "_view_count": null,
      "_view_module": "@jupyter-widgets/base",
      "_view_module_version": "1.2.0",
      "_view_name": "LayoutView",
      "align_content": null,
      "align_items": null,
      "align_self": null,
      "border": null,
      "bottom": null,
      "display": null,
      "flex": "2",
      "flex_flow": null,
      "grid_area": null,
      "grid_auto_columns": null,
      "grid_auto_flow": null,
      "grid_auto_rows": null,
      "grid_column": null,
      "grid_gap": null,
      "grid_row": null,
      "grid_template_areas": null,
      "grid_template_columns": null,
      "grid_template_rows": null,
      "height": null,
      "justify_content": null,
      "justify_items": null,
      "left": null,
      "margin": null,
      "max_height": null,
      "max_width": null,
      "min_height": null,
      "min_width": null,
      "object_fit": null,
      "object_position": null,
      "order": null,
      "overflow": null,
      "overflow_x": null,
      "overflow_y": null,
      "padding": null,
      "right": null,
      "top": null,
      "visibility": null,
      "width": null
     }
    },
    "ac18bbe0fb5a493a825f692a2f340c2b": {
     "model_module": "@jupyter-widgets/controls",
     "model_module_version": "1.5.0",
     "model_name": "DescriptionStyleModel",
     "state": {
      "_model_module": "@jupyter-widgets/controls",
      "_model_module_version": "1.5.0",
      "_model_name": "DescriptionStyleModel",
      "_view_count": null,
      "_view_module": "@jupyter-widgets/base",
      "_view_module_version": "1.2.0",
      "_view_name": "StyleView",
      "description_width": ""
     }
    },
    "b0646ec1b86f45c49e847e46ca0b88e6": {
     "model_module": "@jupyter-widgets/controls",
     "model_module_version": "1.5.0",
     "model_name": "DescriptionStyleModel",
     "state": {
      "_model_module": "@jupyter-widgets/controls",
      "_model_module_version": "1.5.0",
      "_model_name": "DescriptionStyleModel",
      "_view_count": null,
      "_view_module": "@jupyter-widgets/base",
      "_view_module_version": "1.2.0",
      "_view_name": "StyleView",
      "description_width": ""
     }
    },
    "bc81e1410e2142ce8b21a4cc9c58c12b": {
     "model_module": "@jupyter-widgets/controls",
     "model_module_version": "1.5.0",
     "model_name": "FloatProgressModel",
     "state": {
      "_dom_classes": [],
      "_model_module": "@jupyter-widgets/controls",
      "_model_module_version": "1.5.0",
      "_model_name": "FloatProgressModel",
      "_view_count": null,
      "_view_module": "@jupyter-widgets/controls",
      "_view_module_version": "1.5.0",
      "_view_name": "ProgressView",
      "bar_style": "",
      "description": "",
      "description_tooltip": null,
      "layout": "IPY_MODEL_a448acf29b9a4f83a269431de235f0ba",
      "max": 2,
      "min": 0,
      "orientation": "horizontal",
      "style": "IPY_MODEL_6eb767ebdd8842788c0b2be03862e9c8",
      "value": 2
     }
    },
    "c6e20124475b495d9ccfcb0a6a8c7505": {
     "model_module": "@jupyter-widgets/base",
     "model_module_version": "1.2.0",
     "model_name": "LayoutModel",
     "state": {
      "_model_module": "@jupyter-widgets/base",
      "_model_module_version": "1.2.0",
      "_model_name": "LayoutModel",
      "_view_count": null,
      "_view_module": "@jupyter-widgets/base",
      "_view_module_version": "1.2.0",
      "_view_name": "LayoutView",
      "align_content": null,
      "align_items": null,
      "align_self": null,
      "border": null,
      "bottom": null,
      "display": null,
      "flex": null,
      "flex_flow": null,
      "grid_area": null,
      "grid_auto_columns": null,
      "grid_auto_flow": null,
      "grid_auto_rows": null,
      "grid_column": null,
      "grid_gap": null,
      "grid_row": null,
      "grid_template_areas": null,
      "grid_template_columns": null,
      "grid_template_rows": null,
      "height": null,
      "justify_content": null,
      "justify_items": null,
      "left": null,
      "margin": null,
      "max_height": null,
      "max_width": null,
      "min_height": null,
      "min_width": null,
      "object_fit": null,
      "object_position": null,
      "order": null,
      "overflow": null,
      "overflow_x": null,
      "overflow_y": null,
      "padding": null,
      "right": null,
      "top": null,
      "visibility": null,
      "width": null
     }
    },
    "c7e6dd22aeef4235a48c79a121927eae": {
     "model_module": "@jupyter-widgets/controls",
     "model_module_version": "1.5.0",
     "model_name": "DescriptionStyleModel",
     "state": {
      "_model_module": "@jupyter-widgets/controls",
      "_model_module_version": "1.5.0",
      "_model_name": "DescriptionStyleModel",
      "_view_count": null,
      "_view_module": "@jupyter-widgets/base",
      "_view_module_version": "1.2.0",
      "_view_name": "StyleView",
      "description_width": ""
     }
    },
    "cbaf9fc0def747efbc45851de354b83c": {
     "model_module": "@jupyter-widgets/base",
     "model_module_version": "1.2.0",
     "model_name": "LayoutModel",
     "state": {
      "_model_module": "@jupyter-widgets/base",
      "_model_module_version": "1.2.0",
      "_model_name": "LayoutModel",
      "_view_count": null,
      "_view_module": "@jupyter-widgets/base",
      "_view_module_version": "1.2.0",
      "_view_name": "LayoutView",
      "align_content": null,
      "align_items": null,
      "align_self": null,
      "border": null,
      "bottom": null,
      "display": "inline-flex",
      "flex": null,
      "flex_flow": "row wrap",
      "grid_area": null,
      "grid_auto_columns": null,
      "grid_auto_flow": null,
      "grid_auto_rows": null,
      "grid_column": null,
      "grid_gap": null,
      "grid_row": null,
      "grid_template_areas": null,
      "grid_template_columns": null,
      "grid_template_rows": null,
      "height": null,
      "justify_content": null,
      "justify_items": null,
      "left": null,
      "margin": null,
      "max_height": null,
      "max_width": null,
      "min_height": null,
      "min_width": null,
      "object_fit": null,
      "object_position": null,
      "order": null,
      "overflow": null,
      "overflow_x": null,
      "overflow_y": null,
      "padding": null,
      "right": null,
      "top": null,
      "visibility": null,
      "width": "100%"
     }
    },
    "ce03fcf8aa484e41bc8e9067b4ad5a31": {
     "model_module": "@jupyter-widgets/controls",
     "model_module_version": "1.5.0",
     "model_name": "HTMLModel",
     "state": {
      "_dom_classes": [],
      "_model_module": "@jupyter-widgets/controls",
      "_model_module_version": "1.5.0",
      "_model_name": "HTMLModel",
      "_view_count": null,
      "_view_module": "@jupyter-widgets/controls",
      "_view_module_version": "1.5.0",
      "_view_name": "HTMLView",
      "description": "",
      "description_tooltip": null,
      "layout": "IPY_MODEL_c6e20124475b495d9ccfcb0a6a8c7505",
      "placeholder": "​",
      "style": "IPY_MODEL_608b20fcf22a403cb5fab8f5803222fc",
      "value": "Validation DataLoader 0:   1%"
     }
    },
    "d9a5bcb454674651892e4964219ce51f": {
     "model_module": "@jupyter-widgets/controls",
     "model_module_version": "1.5.0",
     "model_name": "FloatProgressModel",
     "state": {
      "_dom_classes": [],
      "_model_module": "@jupyter-widgets/controls",
      "_model_module_version": "1.5.0",
      "_model_name": "FloatProgressModel",
      "_view_count": null,
      "_view_module": "@jupyter-widgets/controls",
      "_view_module_version": "1.5.0",
      "_view_name": "ProgressView",
      "bar_style": "",
      "description": "",
      "description_tooltip": null,
      "layout": "IPY_MODEL_40e40b18116042d38cc2f8e451dffebf",
      "max": 125,
      "min": 0,
      "orientation": "horizontal",
      "style": "IPY_MODEL_3e456e8ae74a480096ecae7116ce13e0",
      "value": 1
     }
    },
    "de2565282d5c4b979713d964a9f3b6d4": {
     "model_module": "@jupyter-widgets/controls",
     "model_module_version": "1.5.0",
     "model_name": "HBoxModel",
     "state": {
      "_dom_classes": [],
      "_model_module": "@jupyter-widgets/controls",
      "_model_module_version": "1.5.0",
      "_model_name": "HBoxModel",
      "_view_count": null,
      "_view_module": "@jupyter-widgets/controls",
      "_view_module_version": "1.5.0",
      "_view_name": "HBoxView",
      "box_style": "",
      "children": [
       "IPY_MODEL_9d7e20e298554b43aae7dc1aa7a54622",
       "IPY_MODEL_e073c1c1ae6d483a841cd0d59e1a3b0c",
       "IPY_MODEL_8e09f0b7fe154a13b95958f46d2d5b4d"
      ],
      "layout": "IPY_MODEL_cbaf9fc0def747efbc45851de354b83c"
     }
    },
    "e073c1c1ae6d483a841cd0d59e1a3b0c": {
     "model_module": "@jupyter-widgets/controls",
     "model_module_version": "1.5.0",
     "model_name": "FloatProgressModel",
     "state": {
      "_dom_classes": [],
      "_model_module": "@jupyter-widgets/controls",
      "_model_module_version": "1.5.0",
      "_model_name": "FloatProgressModel",
      "_view_count": null,
      "_view_module": "@jupyter-widgets/controls",
      "_view_module_version": "1.5.0",
      "_view_name": "ProgressView",
      "bar_style": "",
      "description": "",
      "description_tooltip": null,
      "layout": "IPY_MODEL_4026c727e88449f39c7b81003108bfd8",
      "max": 293,
      "min": 0,
      "orientation": "horizontal",
      "style": "IPY_MODEL_11d7e155594649bfa0d9ef5b82bcb4a1",
      "value": 293
     }
    },
    "e2d107193b4946c9a6fc867df432f02e": {
     "model_module": "@jupyter-widgets/controls",
     "model_module_version": "1.5.0",
     "model_name": "DescriptionStyleModel",
     "state": {
      "_model_module": "@jupyter-widgets/controls",
      "_model_module_version": "1.5.0",
      "_model_name": "DescriptionStyleModel",
      "_view_count": null,
      "_view_module": "@jupyter-widgets/base",
      "_view_module_version": "1.2.0",
      "_view_name": "StyleView",
      "description_width": ""
     }
    },
    "e84bc2908e5b4499b83fac36851ca56c": {
     "model_module": "@jupyter-widgets/controls",
     "model_module_version": "1.5.0",
     "model_name": "HTMLModel",
     "state": {
      "_dom_classes": [],
      "_model_module": "@jupyter-widgets/controls",
      "_model_module_version": "1.5.0",
      "_model_name": "HTMLModel",
      "_view_count": null,
      "_view_module": "@jupyter-widgets/controls",
      "_view_module_version": "1.5.0",
      "_view_name": "HTMLView",
      "description": "",
      "description_tooltip": null,
      "layout": "IPY_MODEL_2dc129e1f39d4b5b98974e0350b64b95",
      "placeholder": "​",
      "style": "IPY_MODEL_a05cf988d8fb469e9518237c4990f513",
      "value": " 1/125 [00:09&lt;20:23,  0.10it/s]"
     }
    },
    "ee111ed37dcd428da76574a3aeba2bfa": {
     "model_module": "@jupyter-widgets/controls",
     "model_module_version": "1.5.0",
     "model_name": "ProgressStyleModel",
     "state": {
      "_model_module": "@jupyter-widgets/controls",
      "_model_module_version": "1.5.0",
      "_model_name": "ProgressStyleModel",
      "_view_count": null,
      "_view_module": "@jupyter-widgets/base",
      "_view_module_version": "1.2.0",
      "_view_name": "StyleView",
      "bar_color": null,
      "description_width": ""
     }
    },
    "f431cb0fcde44064a42a24f640e5fd95": {
     "model_module": "@jupyter-widgets/controls",
     "model_module_version": "1.5.0",
     "model_name": "HTMLModel",
     "state": {
      "_dom_classes": [],
      "_model_module": "@jupyter-widgets/controls",
      "_model_module_version": "1.5.0",
      "_model_name": "HTMLModel",
      "_view_count": null,
      "_view_module": "@jupyter-widgets/controls",
      "_view_module_version": "1.5.0",
      "_view_name": "HTMLView",
      "description": "",
      "description_tooltip": null,
      "layout": "IPY_MODEL_3ec102a634524d85829c73146937a06d",
      "placeholder": "​",
      "style": "IPY_MODEL_b0646ec1b86f45c49e847e46ca0b88e6",
      "value": "Epoch 4: 100%"
     }
    },
    "f52c4c723473429ba08a178839abc6a1": {
     "model_module": "@jupyter-widgets/controls",
     "model_module_version": "1.5.0",
     "model_name": "HBoxModel",
     "state": {
      "_dom_classes": [],
      "_model_module": "@jupyter-widgets/controls",
      "_model_module_version": "1.5.0",
      "_model_name": "HBoxModel",
      "_view_count": null,
      "_view_module": "@jupyter-widgets/controls",
      "_view_module_version": "1.5.0",
      "_view_name": "HBoxView",
      "box_style": "",
      "children": [
       "IPY_MODEL_ce03fcf8aa484e41bc8e9067b4ad5a31",
       "IPY_MODEL_d9a5bcb454674651892e4964219ce51f",
       "IPY_MODEL_e84bc2908e5b4499b83fac36851ca56c"
      ],
      "layout": "IPY_MODEL_5442b65ddefd44b2887b67a5692bb062"
     }
    }
   }
  }
 },
 "nbformat": 4,
 "nbformat_minor": 5
}
